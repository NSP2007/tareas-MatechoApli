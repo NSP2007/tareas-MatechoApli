{
  "nbformat": 4,
  "nbformat_minor": 0,
  "metadata": {
    "colab": {
      "provenance": [],
      "authorship_tag": "ABX9TyNiOlsk0hu+oEH4OTfr9zyU",
      "include_colab_link": true
    },
    "kernelspec": {
      "name": "python3",
      "display_name": "Python 3"
    },
    "language_info": {
      "name": "python"
    }
  },
  "cells": [
    {
      "cell_type": "markdown",
      "metadata": {
        "id": "view-in-github",
        "colab_type": "text"
      },
      "source": [
        "<a href=\"https://colab.research.google.com/github/NSP2007/tareas-MatechoApli/blob/main/Tarea%20de%20Matematicas.ipynb\" target=\"_parent\"><img src=\"https://colab.research.google.com/assets/colab-badge.svg\" alt=\"Open In Colab\"/></a>"
      ]
    },
    {
      "cell_type": "markdown",
      "source": [
        "1. Area lateral de un cilindro\n",
        "\n",
        "$$A=2\\pi rq$$\n",
        "\n",
        "* Despeje de r\n",
        "\n",
        "$$r=\\frac{A}{2\\pi q}$$\n",
        "\n",
        "2. Volumen del cono\n",
        "\n",
        "$$V=\\frac{A_{B}\\cdot h}{3}$$\n",
        "\n",
        "* Despeje de h\n",
        "\n",
        "$$h=\\frac{3V}{A_{B}}$$\n",
        "\n",
        "3. Volumen de la esfera\n",
        "\n",
        "$$V=\\frac43\\cdot\\pi \\cdot r^{3}$$\n",
        "\n",
        "* Despeje de r\n",
        "\n",
        "$$r=\\frac{3V}{4\\pi}$$\n",
        "\n",
        "4. Area del trapecio\n",
        "\n",
        "$$A=\\frac{B+b}{2}\\cdot h$$\n",
        "\n",
        "* Despeje de h\n",
        "\n",
        "$$h=\\frac{2A}{(B+b)}$$\n",
        "\n",
        "\n"
      ],
      "metadata": {
        "id": "W0G_QH2JQhm7"
      }
    },
    {
      "cell_type": "code",
      "source": [
        "((3*(-5+10+(-5)))-2((-2)+(-4)+10))**2"
      ],
      "metadata": {
        "id": "UDYT2ZdTVe2s"
      },
      "execution_count": null,
      "outputs": []
    }
  ]
}