{
  "nbformat": 4,
  "nbformat_minor": 0,
  "metadata": {
    "colab": {
      "provenance": [],
      "authorship_tag": "ABX9TyPLSuQg/eY1xykywPsvXsRi",
      "include_colab_link": true
    },
    "kernelspec": {
      "name": "python3",
      "display_name": "Python 3"
    },
    "language_info": {
      "name": "python"
    }
  },
  "cells": [
    {
      "cell_type": "markdown",
      "metadata": {
        "id": "view-in-github",
        "colab_type": "text"
      },
      "source": [
        "<a href=\"https://colab.research.google.com/github/NSP2007/tareas-MatechoApli/blob/main/Tarea%20de%20Matematicas.ipynb\" target=\"_parent\"><img src=\"https://colab.research.google.com/assets/colab-badge.svg\" alt=\"Open In Colab\"/></a>"
      ]
    },
    {
      "cell_type": "markdown",
      "source": [
        "1. Area lateral de un cilindro\n",
        "\n",
        "$$A=2\\pi rq$$\n",
        "\n",
        "* Despeje de r\n",
        "\n",
        "$$r=\\frac{A}{2\\pi q}$$\n",
        "\n",
        "2. Volumen del cono\n",
        "\n",
        "$$V=\\frac{A_{B}\\cdot h}{3}$$\n",
        "\n",
        "* Despeje de h\n",
        "\n",
        "$$h=\\frac{3V}{A_{B}}$$\n",
        "\n",
        "3. Volumen de la esfera\n",
        "\n",
        "$$V=\\frac43\\cdot\\pi \\cdot r^{3}$$\n",
        "\n",
        "* Despeje de r\n",
        "\n",
        "$$r=\\frac{3V}{4\\pi}$$\n",
        "\n",
        "4. Area del trapecio\n",
        "\n",
        "$$A=\\frac{B+b}{2}\\cdot h$$\n",
        "\n",
        "* Despeje de h\n",
        "\n",
        "$$h=\\frac{2A}{(B+b)}$$\n",
        "\n",
        "\n"
      ],
      "metadata": {
        "id": "W0G_QH2JQhm7"
      }
    },
    {
      "cell_type": "code",
      "source": [
        "((3*(-5+10+(-5)))-2*((-2)+(-4)+10))**2"
      ],
      "metadata": {
        "colab": {
          "base_uri": "https://localhost:8080/"
        },
        "id": "UDYT2ZdTVe2s",
        "outputId": "92277553-0a1d-42f8-a861-ec58c234f839"
      },
      "execution_count": null,
      "outputs": [
        {
          "output_type": "execute_result",
          "data": {
            "text/plain": [
              "64"
            ]
          },
          "metadata": {},
          "execution_count": 3
        }
      ]
    },
    {
      "cell_type": "code",
      "source": [
        "numero1 = int(input(\"Por favor digite el primer numero: \"))\n",
        "numero2 = int(input(\"Por favor digite el segundo numero numero: \"))\n",
        "\n",
        "suma = numero1 + numero2\n",
        "\n",
        "print(\"La suma de los numeros es: \", suma)\n",
        "\n",
        "resta = numero1 - numero2\n",
        "\n",
        "print(\"La resta de los numeros es: \", resta)\n",
        "\n",
        "producto = numero1 * numero2\n",
        "\n",
        "print(\"El producto de los numeros es: \", producto)\n",
        "\n",
        "division = numero1 / numero2\n",
        "\n",
        "print(\"La division de los numeros es: \", division)"
      ],
      "metadata": {
        "id": "IDDdmm7uW1zv",
        "colab": {
          "base_uri": "https://localhost:8080/"
        },
        "outputId": "feba7799-ee56-42b7-e4f7-7d08f04461eb"
      },
      "execution_count": 1,
      "outputs": [
        {
          "output_type": "stream",
          "name": "stdout",
          "text": [
            "Por favor digite el primer numero: 4\n",
            "Por favor digite el segundo numero numero: 3\n",
            "La suma de los numeros es:  7\n",
            "La resta de los numeros es:  1\n",
            "El producto de los numeros es:  12\n",
            "La division de los numeros es:  1.3333333333333333\n"
          ]
        }
      ]
    }
  ]
}