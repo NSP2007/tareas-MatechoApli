{
  "nbformat": 4,
  "nbformat_minor": 0,
  "metadata": {
    "colab": {
      "provenance": [],
      "authorship_tag": "ABX9TyODAt2qPlQ17gYV91YLeVzh",
      "include_colab_link": true
    },
    "kernelspec": {
      "name": "python3",
      "display_name": "Python 3"
    },
    "language_info": {
      "name": "python"
    }
  },
  "cells": [
    {
      "cell_type": "markdown",
      "metadata": {
        "id": "view-in-github",
        "colab_type": "text"
      },
      "source": [
        "<a href=\"https://colab.research.google.com/github/NSP2007/tareas-MatechoApli/blob/main/Cajero.ipynb\" target=\"_parent\"><img src=\"https://colab.research.google.com/assets/colab-badge.svg\" alt=\"Open In Colab\"/></a>"
      ]
    },
    {
      "cell_type": "code",
      "source": [
        "import random\n",
        "import time\n",
        "saldo = random.randint(5000,10000000)\n",
        "\n",
        "print(\"Bienvenido al cajero \\n Por favor digite su clave\")\n",
        "clave = int(input())\n",
        "\n",
        "print(\"\\nElija una opcion: \\n [1] Consultar mi saldo: \\n [2] Depositar \\n [3] Retirar \\n [4] Transferir \\n [5] Salir \\n\")\n",
        "\n",
        "\n",
        "\n",
        "while True:\n",
        "\n",
        "  while True:\n",
        "    try:\n",
        "      opcion = int(input())\n",
        "      if opcion >= 1 and opcion <= 5:\n",
        "        break\n",
        "\n",
        "      else:\n",
        "        print(\"Por favor digite una opcion valida\")\n",
        "    except ValueError:\n",
        "      print(\"Por favor digite una opcion valida\")\n",
        "\n",
        "  if opcion == 1:\n",
        "    print(\"su saldo es de: \",saldo)\n",
        "    time.sleep(1)\n",
        "    print(\"\\nElija una opcion: \\n [1] Consultar mi saldo: \\n [2] Depositar \\n [3] Retirar \\n [4] Transferir \\n [5] Salir \\n\")\n",
        "\n",
        "  elif opcion == 2:\n",
        "    while True:\n",
        "      try:\n",
        "        deposito = int(input(\"Digite el valor que desea agregar a la cuenta: \"))\n",
        "        saldo += deposito\n",
        "        time.sleep(1)\n",
        "        print(\"Hecho\")\n",
        "        print(\"\\nElija una opcion: \\n [1] Consultar mi saldo: \\n [2] Depositar \\n [3] Retirar \\n [4] Transferir \\n [5] Salir \\n\")\n",
        "        break\n",
        "      except ValueError:\n",
        "        print(\"Por favor digite algo valido\")\n",
        "\n",
        "  elif opcion == 3:\n",
        "    while True:\n",
        "      try:\n",
        "        retirado = int(input(\"Digite el valor que desea retirar de su cuenta: \"))\n",
        "        if saldo >= retirado:\n",
        "          saldo -= retirado\n",
        "          time.sleep(1)\n",
        "          print(\"Hecho\")\n",
        "          print(\"\\nElija una opcion: \\n [1] Consultar mi saldo: \\n [2] Depositar \\n [3] Retirar \\n [4] Transferir \\n [5] Salir \\n\")\n",
        "          break\n",
        "        else:\n",
        "          print(\"No tiene el suficiente dinero\")\n",
        "      except ValueError:\n",
        "        print(\"Digite una opcion valida\")\n",
        "\n",
        "  elif opcion == 4:\n",
        "    while True:\n",
        "      try:\n",
        "        transferir = int(input(\"Digite el valor que desea retirar de su cuenta: \"))\n",
        "        if saldo >= transferir:\n",
        "          saldo -= transferir\n",
        "          while True:\n",
        "            try:\n",
        "              transferido = (input(\"Digite el codigo de la cuenta a la que desea transferir (10 caracteres): \"))\n",
        "              if len(transferido)==10:\n",
        "                print(\"Exitoso\")\n",
        "                break\n",
        "              else:\n",
        "                print(\"Esa no es una cuenta real\")\n",
        "            except ValueError:\n",
        "              print(\"Por favor digite una opcion valida\")\n",
        "          time.sleep(1)\n",
        "          print(\"Hecho\")\n",
        "          print(\"\\nElija una opcion: \\n [1] Consultar mi saldo: \\n [2] Depositar \\n [3] Retirar \\n [4] Transferir \\n [5] Salir \\n\")\n",
        "          break\n",
        "        else:\n",
        "          print(\"No tiene el suficiente dinero\")\n",
        "      except:\n",
        "        print(\"Digite una opcion valida\")\n",
        "\n",
        "  else:\n",
        "    time.sleep(1)\n",
        "    print(\"Gracias por confiar en nosotros, vuelva pronto\")"
      ],
      "metadata": {
        "id": "NJS6kOZtHrYq"
      },
      "execution_count": null,
      "outputs": []
    }
  ]
}