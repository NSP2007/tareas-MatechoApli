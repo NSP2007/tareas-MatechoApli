{
  "nbformat": 4,
  "nbformat_minor": 0,
  "metadata": {
    "colab": {
      "provenance": [],
      "authorship_tag": "ABX9TyNWl0OWYgNpc247c9C3LZBk",
      "include_colab_link": true
    },
    "kernelspec": {
      "name": "python3",
      "display_name": "Python 3"
    },
    "language_info": {
      "name": "python"
    }
  },
  "cells": [
    {
      "cell_type": "markdown",
      "metadata": {
        "id": "view-in-github",
        "colab_type": "text"
      },
      "source": [
        "<a href=\"https://colab.research.google.com/github/NSP2007/tareas-MatechoApli/blob/main/Cajero.ipynb\" target=\"_parent\"><img src=\"https://colab.research.google.com/assets/colab-badge.svg\" alt=\"Open In Colab\"/></a>"
      ]
    },
    {
      "cell_type": "code",
      "source": [
        "import random\n",
        "import time\n",
        "saldo = random.randint(5000,10000000)\n",
        "\n",
        "print(\"Bienvenido al cajero \\n Por favor digite su clave\")\n",
        "\n",
        "while True:\n",
        "  try:\n",
        "    clave = int(input())\n",
        "    break\n",
        "  except ValueError:\n",
        "    print(\"Solo se permiten numeros... xd\")\n",
        "\n",
        "print(\"\\nElija una opcion: \\n [1] Consultar mi saldo: \\n [2] Depositar \\n [3] Retirar \\n [4] Transferir \\n [5] Salir \\n\")\n",
        "\n",
        "\n",
        "\n",
        "while True:\n",
        "\n",
        "  while True:\n",
        "    try:\n",
        "      opcion = int(input())\n",
        "      if opcion >= 1 and opcion <= 5:\n",
        "        break\n",
        "\n",
        "      else:\n",
        "        print(\"Por favor digite una opcion valida\")\n",
        "    except ValueError:\n",
        "      print(\"Por favor digite una opcion valida\")\n",
        "\n",
        "  if opcion == 1:\n",
        "    print(\"su saldo es de: \",saldo)\n",
        "    time.sleep(1)\n",
        "    print(\"\\nElija una opcion: \\n [1] Consultar mi saldo: \\n [2] Depositar \\n [3] Retirar \\n [4] Transferir \\n [5] Salir \\n\")\n",
        "\n",
        "  elif opcion == 2:\n",
        "    while True:\n",
        "      try:\n",
        "        deposito = int(input(\"Digite el valor que desea agregar a la cuenta: \"))\n",
        "        saldo += deposito\n",
        "        time.sleep(1)\n",
        "        print(\"Hecho\")\n",
        "        print(\"\\nElija una opcion: \\n [1] Consultar mi saldo: \\n [2] Depositar \\n [3] Retirar \\n [4] Transferir \\n [5] Salir \\n\")\n",
        "        break\n",
        "      except ValueError:\n",
        "        print(\"Por favor digite algo valido\")\n",
        "\n",
        "  elif opcion == 3:\n",
        "    while True:\n",
        "      try:\n",
        "        retirado = int(input(\"Digite el valor que desea retirar de su cuenta: \"))\n",
        "        if saldo >= retirado:\n",
        "          saldo -= retirado\n",
        "          time.sleep(1)\n",
        "          print(\"Hecho\")\n",
        "          print(\"\\nElija una opcion: \\n [1] Consultar mi saldo: \\n [2] Depositar \\n [3] Retirar \\n [4] Transferir \\n [5] Salir \\n\")\n",
        "          break\n",
        "        else:\n",
        "          print(\"No tiene el suficiente dinero\")\n",
        "      except ValueError:\n",
        "        print(\"Digite una opcion valida\")\n",
        "\n",
        "  elif opcion == 4:\n",
        "    while True:\n",
        "      try:\n",
        "        transferir = int(input(\"Digite el valor que desea retirar de su cuenta: \"))\n",
        "        if saldo >= transferir:\n",
        "          saldo -= transferir\n",
        "          while True:\n",
        "            try:\n",
        "              transferido = (input(\"Digite el codigo de la cuenta a la que desea transferir (10 caracteres): \"))\n",
        "              if len(transferido)==10:\n",
        "                print(\"Exitoso\")\n",
        "                break\n",
        "              else:\n",
        "                print(\"Esa no es una cuenta real\")\n",
        "            except ValueError:\n",
        "              print(\"Por favor digite una opcion valida\")\n",
        "          time.sleep(1)\n",
        "          print(\"Hecho\")\n",
        "          print(\"\\nElija una opcion: \\n [1] Consultar mi saldo: \\n [2] Depositar \\n [3] Retirar \\n [4] Transferir \\n [5] Salir \\n\")\n",
        "          break\n",
        "        else:\n",
        "          print(\"No tiene el suficiente dinero\")\n",
        "      except:\n",
        "        print(\"Digite una opcion valida\")\n",
        "\n",
        "  else:\n",
        "    time.sleep(1)\n",
        "    print(\"Gracias por confiar en nosotros, vuelva pronto\")\n",
        "    break"
      ],
      "metadata": {
        "id": "NJS6kOZtHrYq",
        "outputId": "f65b8947-91ef-4d24-a279-bc9ba586398a",
        "colab": {
          "base_uri": "https://localhost:8080/",
          "height": 391
        }
      },
      "execution_count": 7,
      "outputs": [
        {
          "output_type": "stream",
          "name": "stdout",
          "text": [
            "Bienvenido al cajero \n",
            " Por favor digite su clave\n"
          ]
        },
        {
          "output_type": "error",
          "ename": "KeyboardInterrupt",
          "evalue": "Interrupted by user",
          "traceback": [
            "\u001b[0;31m---------------------------------------------------------------------------\u001b[0m",
            "\u001b[0;31mKeyboardInterrupt\u001b[0m                         Traceback (most recent call last)",
            "\u001b[0;32m<ipython-input-7-fe946b2cadbf>\u001b[0m in \u001b[0;36m<cell line: 0>\u001b[0;34m()\u001b[0m\n\u001b[1;32m      7\u001b[0m \u001b[0;32mwhile\u001b[0m \u001b[0;32mTrue\u001b[0m\u001b[0;34m:\u001b[0m\u001b[0;34m\u001b[0m\u001b[0;34m\u001b[0m\u001b[0m\n\u001b[1;32m      8\u001b[0m   \u001b[0;32mtry\u001b[0m\u001b[0;34m:\u001b[0m\u001b[0;34m\u001b[0m\u001b[0;34m\u001b[0m\u001b[0m\n\u001b[0;32m----> 9\u001b[0;31m     \u001b[0mclave\u001b[0m \u001b[0;34m=\u001b[0m \u001b[0mint\u001b[0m\u001b[0;34m(\u001b[0m\u001b[0minput\u001b[0m\u001b[0;34m(\u001b[0m\u001b[0;34m)\u001b[0m\u001b[0;34m)\u001b[0m\u001b[0;34m\u001b[0m\u001b[0;34m\u001b[0m\u001b[0m\n\u001b[0m\u001b[1;32m     10\u001b[0m     \u001b[0;32mbreak\u001b[0m\u001b[0;34m\u001b[0m\u001b[0;34m\u001b[0m\u001b[0m\n\u001b[1;32m     11\u001b[0m   \u001b[0;32mexcept\u001b[0m \u001b[0mValueError\u001b[0m\u001b[0;34m:\u001b[0m\u001b[0;34m\u001b[0m\u001b[0;34m\u001b[0m\u001b[0m\n",
            "\u001b[0;32m/usr/local/lib/python3.11/dist-packages/ipykernel/kernelbase.py\u001b[0m in \u001b[0;36mraw_input\u001b[0;34m(self, prompt)\u001b[0m\n\u001b[1;32m   1175\u001b[0m                 \u001b[0;34m\"raw_input was called, but this frontend does not support input requests.\"\u001b[0m\u001b[0;34m\u001b[0m\u001b[0;34m\u001b[0m\u001b[0m\n\u001b[1;32m   1176\u001b[0m             )\n\u001b[0;32m-> 1177\u001b[0;31m         return self._input_request(\n\u001b[0m\u001b[1;32m   1178\u001b[0m             \u001b[0mstr\u001b[0m\u001b[0;34m(\u001b[0m\u001b[0mprompt\u001b[0m\u001b[0;34m)\u001b[0m\u001b[0;34m,\u001b[0m\u001b[0;34m\u001b[0m\u001b[0;34m\u001b[0m\u001b[0m\n\u001b[1;32m   1179\u001b[0m             \u001b[0mself\u001b[0m\u001b[0;34m.\u001b[0m\u001b[0m_parent_ident\u001b[0m\u001b[0;34m[\u001b[0m\u001b[0;34m\"shell\"\u001b[0m\u001b[0;34m]\u001b[0m\u001b[0;34m,\u001b[0m\u001b[0;34m\u001b[0m\u001b[0;34m\u001b[0m\u001b[0m\n",
            "\u001b[0;32m/usr/local/lib/python3.11/dist-packages/ipykernel/kernelbase.py\u001b[0m in \u001b[0;36m_input_request\u001b[0;34m(self, prompt, ident, parent, password)\u001b[0m\n\u001b[1;32m   1217\u001b[0m             \u001b[0;32mexcept\u001b[0m \u001b[0mKeyboardInterrupt\u001b[0m\u001b[0;34m:\u001b[0m\u001b[0;34m\u001b[0m\u001b[0;34m\u001b[0m\u001b[0m\n\u001b[1;32m   1218\u001b[0m                 \u001b[0;31m# re-raise KeyboardInterrupt, to truncate traceback\u001b[0m\u001b[0;34m\u001b[0m\u001b[0;34m\u001b[0m\u001b[0m\n\u001b[0;32m-> 1219\u001b[0;31m                 \u001b[0;32mraise\u001b[0m \u001b[0mKeyboardInterrupt\u001b[0m\u001b[0;34m(\u001b[0m\u001b[0;34m\"Interrupted by user\"\u001b[0m\u001b[0;34m)\u001b[0m \u001b[0;32mfrom\u001b[0m \u001b[0;32mNone\u001b[0m\u001b[0;34m\u001b[0m\u001b[0;34m\u001b[0m\u001b[0m\n\u001b[0m\u001b[1;32m   1220\u001b[0m             \u001b[0;32mexcept\u001b[0m \u001b[0mException\u001b[0m\u001b[0;34m:\u001b[0m\u001b[0;34m\u001b[0m\u001b[0;34m\u001b[0m\u001b[0m\n\u001b[1;32m   1221\u001b[0m                 \u001b[0mself\u001b[0m\u001b[0;34m.\u001b[0m\u001b[0mlog\u001b[0m\u001b[0;34m.\u001b[0m\u001b[0mwarning\u001b[0m\u001b[0;34m(\u001b[0m\u001b[0;34m\"Invalid Message:\"\u001b[0m\u001b[0;34m,\u001b[0m \u001b[0mexc_info\u001b[0m\u001b[0;34m=\u001b[0m\u001b[0;32mTrue\u001b[0m\u001b[0;34m)\u001b[0m\u001b[0;34m\u001b[0m\u001b[0;34m\u001b[0m\u001b[0m\n",
            "\u001b[0;31mKeyboardInterrupt\u001b[0m: Interrupted by user"
          ]
        }
      ]
    }
  ]
}