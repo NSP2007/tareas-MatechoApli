{
  "nbformat": 4,
  "nbformat_minor": 0,
  "metadata": {
    "colab": {
      "provenance": [],
      "authorship_tag": "ABX9TyNr7Augs95KOmaxN37jzfby",
      "include_colab_link": true
    },
    "kernelspec": {
      "name": "python3",
      "display_name": "Python 3"
    },
    "language_info": {
      "name": "python"
    }
  },
  "cells": [
    {
      "cell_type": "markdown",
      "metadata": {
        "id": "view-in-github",
        "colab_type": "text"
      },
      "source": [
        "<a href=\"https://colab.research.google.com/github/NSP2007/tareas-MatechoApli/blob/main/Cajero.ipynb\" target=\"_parent\"><img src=\"https://colab.research.google.com/assets/colab-badge.svg\" alt=\"Open In Colab\"/></a>"
      ]
    },
    {
      "cell_type": "code",
      "source": [
        "\n",
        "#En grupos de trabajo: Construir un simulador de Cajero automático.\n",
        "\n",
        "#Consultar saldo\n",
        "#Depositar\n",
        "#Retirar\n",
        "#Ingreso de contraseña** opcional\n",
        "#Tranferir dinero\n",
        "#Salir\n",
        "#Entre otras\n",
        "\n",
        "\n",
        "import numpy as np\n",
        "import random\n",
        "\n",
        "saldo = random.randint(5000,10000000)\n",
        "\n",
        "print(\"Bienvenido al cajero \\n Por favor digite su clave\")\n",
        "clave = int(input())\n",
        "\n",
        "print(\"\\nElija una opcion: \\n [1] Consultar mi saldo: \\n [2] Depositar \\n [3] Retirar \\n [4] Transferir \\n [5] Salir \\n\")\n",
        "\n",
        "while True:\n",
        "  try:\n",
        "    opcion = int(input())\n",
        "  except:\n",
        "    print(\"Por favor digite una opcion valida\")\n",
        "  if opcion >= 1 and opcion <= 5:\n",
        "    break\n",
        "  else:\n",
        "    print(\"Por favor digite una opcion valida\")\n"
      ],
      "metadata": {
        "id": "WZ6u2upf1Rws",
        "colab": {
          "base_uri": "https://localhost:8080/"
        },
        "outputId": "5d66aeed-ef39-4b6d-d7fa-a4ff66a2fbf5"
      },
      "execution_count": null,
      "outputs": [
        {
          "output_type": "stream",
          "name": "stdout",
          "text": [
            "Bienvenido al cajero \n",
            " Por favor digite su clave\n",
            "1234\n",
            "\n",
            "Elija una opcion: \n",
            " [1] Consultar mi saldo: \n",
            " [2] Depositar \n",
            " [3] Retirar \n",
            " [4] Transferir \n",
            " [5] Salir \n",
            "\n",
            "6\n",
            "Por favor digite una opcion valida\n",
            "6\n",
            "Por favor digite una opcion valida\n",
            "t\n",
            "Por favor digite una opcion valida\n",
            "Por favor digite una opcion valida\n",
            "h\n",
            "Por favor digite una opcion valida\n",
            "Por favor digite una opcion valida\n",
            "Por favor digite una opcion valida\n",
            "Por favor digite una opcion valida\n"
          ]
        }
      ]
    }
  ]
}