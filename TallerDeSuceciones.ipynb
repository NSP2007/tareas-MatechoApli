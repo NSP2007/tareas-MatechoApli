{
  "nbformat": 4,
  "nbformat_minor": 0,
  "metadata": {
    "colab": {
      "provenance": [],
      "authorship_tag": "ABX9TyMOzlWs1YZnGQURWN7ew+n0",
      "include_colab_link": true
    },
    "kernelspec": {
      "name": "python3",
      "display_name": "Python 3"
    },
    "language_info": {
      "name": "python"
    }
  },
  "cells": [
    {
      "cell_type": "markdown",
      "metadata": {
        "id": "view-in-github",
        "colab_type": "text"
      },
      "source": [
        "<a href=\"https://colab.research.google.com/github/NSP2007/tareas-MatechoApli/blob/main/TallerDeSuceciones.ipynb\" target=\"_parent\"><img src=\"https://colab.research.google.com/assets/colab-badge.svg\" alt=\"Open In Colab\"/></a>"
      ]
    },
    {
      "cell_type": "markdown",
      "source": [
        "***1.2 - 2***\n",
        "\n",
        "(a) $a_{n} = \\frac{1}{{3}^{n}},n = 0, 1, 2, ...$\n",
        "\n",
        "$$\\lim_{n \\to \\infty}\\frac{1}{{3}^{n}} = \\frac{1}{\\infty} = 0$$\n",
        "\n",
        "\n",
        "(b) $a_{n} = \\pi^{n}, n = 0, 1, 2, ...$\n",
        "\n",
        "Esta sucesion diverge hacia el infinito porque cada vez se hace mas grande\n",
        "\n",
        "\n",
        "(c) $b_{n} = \\frac{3n-1}{2n+6}, n = 1, 2, 3, ...$\n",
        "\n",
        "$$\\lim_{n \\to \\infty} \\frac{3n-1}{2n+6} = \\frac{3}{2}$$\n",
        "\n",
        "\n",
        "(d) $c_{n} = cos(\\pi n), n = 0, 1, 2, ...$\n",
        "\n",
        "Esta sucesion diverge porque el coseno alterna entre -1 y 1\n",
        "\n",
        "\n",
        "(e) $a_{n} = \\frac{3n^{4}-6n^{3}+1}{5n^{3}+n^{2}+2}, n = 1, 2, 3, ...$\n",
        "\n",
        "Esta sucesion diverge porque el polinomio de arriba es mayor que el de abajo\n",
        "\n",
        "\n",
        "(f) $b_{n} = \\frac{2n^{5}-3n^{2}+23}{7n^{5}+13n^{4}-12}, n = 1, 2, 3, ...$\n",
        "\n",
        "$$\\lim_{n \\to \\infty} \\frac{2n^{5}-3n^{2}+23}{7n^{5}+13n^{4}-12} = \\frac{2}{7}$$\n",
        "\n",
        "\n",
        "(g) $c_{n} = \\frac{45-16n^{2}}{13+5n+6n^{3}}, n = 1, 2, 3, ...$\n",
        "\n",
        "$$\\lim_{n \\to \\infty} \\frac{45-16n^{2}}{13+5n+6n^{3}} = 0$$\n",
        "\n",
        "\n",
        "(h) $b_{n} = \\frac{3n+1}{\\sqrt{4n^{2}+1}}, n = 1, 2, 3, ...$\n",
        "\n",
        "$$\\lim_{n \\to \\infty} \\frac{3n+1}{\\sqrt{4n^{2}+1}} = \\frac{3}{4}$$\n",
        "\n",
        "\n",
        "(i) $a_{n} = (-2)^{2n+1}, n = 1, 2, 3, ...$\n",
        "\n",
        "Esta sucesion diverge hacia el infinito\n",
        "\n",
        "\n",
        "(j) $a_{n} = \\frac{10-16n^{3}}{1+n^{2}}, n = 1, 2, 3, ...$\n",
        "\n",
        "Esta sucesiobn diverge hacia el infinito\n",
        "\n",
        "(k) $a_{n} = \\sqrt{\\frac{3n^{2}+n-6}{5n^{2}+16}}, n = 1, 2, 3, ...$\n",
        "\n",
        "$$\\lim_{n \\to \\infty} \\sqrt{\\frac{3n^{2}+n-6}{5n^{2}+16}} = \\sqrt{\\frac{3}{5}}$$\n",
        "\n",
        "\n",
        "(l) $b_{n} = \\frac{(-1)^{n}}{5^n}, n = 0, 1, 2, ...$\n",
        "\n",
        "Esta sucesion diverge al infinito"
      ],
      "metadata": {
        "id": "J__nwbOCDExt"
      }
    },
    {
      "cell_type": "markdown",
      "source": [
        "***1.2 - 4***"
      ],
      "metadata": {
        "id": "p3clt_3_b2r3"
      }
    },
    {
      "cell_type": "code",
      "source": [
        "import numpy as np\n",
        "import matplotlib.pyplot as plt\n",
        "\n",
        "e = 2.71828\n",
        "\n",
        "def a_n(n):\n",
        "  a_n=(1+(1/n))**n\n",
        "  return a_n\n",
        "\n",
        "x=np.linspace(1,200,200)\n",
        "\n",
        "y=[a_n(n) for n in x]\n",
        "\n",
        "plt.plot(x,y,'.', ms=2.5)\n",
        "print(y[134]-e)\n",
        "print(y[72])\n",
        "plt.axhline(e)\n",
        "plt.show()"
      ],
      "metadata": {
        "colab": {
          "base_uri": "https://localhost:8080/",
          "height": 465
        },
        "id": "d5ra2-yOVLw_",
        "outputId": "40d5de8a-9ab1-42cf-b263-e439eb901b01"
      },
      "execution_count": 75,
      "outputs": [
        {
          "output_type": "stream",
          "name": "stdout",
          "text": [
            "-0.009998000928613582\n",
            "2.699894235137786\n"
          ]
        },
        {
          "output_type": "display_data",
          "data": {
            "text/plain": [
              "<Figure size 640x480 with 1 Axes>"
            ],
            "image/png": "[encoded data removed]"
          },
          "metadata": {}
        }
      ]
    },
    {
      "cell_type": "markdown",
      "source": [
        "(d) Si, es razonable pensar que la sucesion se aproxima a euler en el infinito\n",
        "\n",
        "(e) El valor minimo en el que $a_{n}$ es menor a 2.7 es 72\n",
        "\n",
        "(f) El valor minimo en el que $|a_{n}-e|$ es menor que 0.01 es 134"
      ],
      "metadata": {
        "id": "_mPXp3zyYAM-"
      }
    },
    {
      "cell_type": "markdown",
      "source": [
        "***1.3 - 1***"
      ],
      "metadata": {
        "id": "WrcLQ12KcG_g"
      }
    },
    {
      "cell_type": "markdown",
      "source": [
        "(a) $\\sum_{n=1}^{\\infty}\\left ( \\frac{1}{3} \\right )^{n-1} = 1.5 $\n",
        "\n",
        "-\n",
        "\n",
        "(b) $\\sum_{n=1}^{\\infty} 4(0.21)^{n-1} = 5.0632$\n",
        "\n",
        "-\n",
        "\n",
        "(c) $\\sum_{n=1}^{\\infty} \\frac{2}{5^n} = 0.5$\n",
        "\n",
        "-\n",
        "\n",
        "(d) $\\sum_{n=0}^{\\infty} \\frac{2}{7^n} = 2.3333$\n",
        "\n",
        "-\n",
        "\n",
        "(e) $\\sum_{n=1}^{\\infty}7 ( \\frac{1}{3})^{n} (\\frac{2}{5})^{n-1} = 2.6923$\n",
        "\n",
        "-\n",
        "\n",
        "(f) $\\sum_{n=3}^{\\infty}( \\frac{2}{3})^{n} = 0.8888$\n",
        "\n",
        "-\n",
        "\n",
        "(g) $\\sum_{n=1}^{\\infty}( \\frac{3}{2})^{n-1} = diverge$\n",
        "\n",
        "-\n",
        "\n",
        "(h) $\\sum_{n=1}^{\\infty} 0.99999^n = 9516$\n",
        "\n",
        "-\n",
        "\n",
        "(i) $\\sum_{n=1}^{\\infty} 1.00001^n = diverge$\n",
        "\n",
        "-\n",
        "\n",
        "(j) $\\sum_{n=30}^{\\infty} 5 ( \\frac{3^{\\pi}}{7^{n-1}}) = 6.55$\n",
        "\n",
        "-\n",
        "\n",
        "(k) $\\sum_{n=100}^{\\infty}( \\frac{91}{89})^{n-1} = diverge$\n",
        "\n",
        "-\n",
        "\n",
        "(l) $\\sum_{n=1}^{\\infty}( \\frac{\\pi}{4})^{n} = 3.6598$\n",
        "\n",
        "-\n",
        "\n",
        "(m) $\\sum_{n=1}^{\\infty} \\sin(\\pi n) = diverge$\n",
        "\n",
        "-\n",
        "\n",
        "(n) $\\sum_{n=1}^{\\infty} \\cos(\\pi n) = diverge$"
      ],
      "metadata": {
        "id": "HCm_gYe9dCoR"
      }
    },
    {
      "cell_type": "code",
      "source": [
        "import numpy as np\n",
        "import matplotlib.pyplot as plt\n",
        "\n",
        "sum = 0\n",
        "\n",
        "def a_n(n):\n",
        "  an=(1/3)**(n-1)\n",
        "  global sum\n",
        "  sum += an\n",
        "  return an\n",
        "\n",
        "x=np.linspace(1,10000,10000)\n",
        "\n",
        "y=[a_n(n) for n in x]\n",
        "\n",
        "plt.plot(x,y,'.', ms=2.5)\n",
        "print(sum)\n",
        "plt.show()"
      ],
      "metadata": {
        "id": "ri2CPlNvb08i"
      },
      "execution_count": null,
      "outputs": []
    },
    {
      "cell_type": "code",
      "source": [
        "import numpy as np\n",
        "import matplotlib.pyplot as plt\n",
        "\n",
        "sum = 0\n",
        "\n",
        "def a_n(n):\n",
        "  an=4*(0.21)**(n-1)\n",
        "  global sum\n",
        "  sum += an\n",
        "  return an\n",
        "\n",
        "x=np.linspace(1,10000,10000)\n",
        "\n",
        "y=[a_n(n) for n in x]\n",
        "\n",
        "plt.plot(x,y,'.', ms=2.5)\n",
        "print(sum)\n",
        "plt.show()"
      ],
      "metadata": {
        "id": "cAvrD10Sf9bB"
      },
      "execution_count": null,
      "outputs": []
    },
    {
      "cell_type": "code",
      "source": [
        "import numpy as np\n",
        "import matplotlib.pyplot as plt\n",
        "\n",
        "sum = 0\n",
        "\n",
        "def a_n(n):\n",
        "  an=2/(5**n)\n",
        "  global sum\n",
        "  sum += an\n",
        "  return an\n",
        "\n",
        "x=np.linspace(1,10000,10000)\n",
        "\n",
        "y=[a_n(n) for n in x]\n",
        "\n",
        "plt.plot(x,y,'.', ms=2.5)\n",
        "print(sum)\n",
        "plt.show()"
      ],
      "metadata": {
        "id": "c2V4GV3_o1ZT"
      },
      "execution_count": null,
      "outputs": []
    },
    {
      "cell_type": "code",
      "source": [
        "import numpy as np\n",
        "import matplotlib.pyplot as plt\n",
        "\n",
        "sum = 0\n",
        "\n",
        "def a_n(n):\n",
        "  an=2/(7**n)\n",
        "  global sum\n",
        "  sum += an\n",
        "  return an\n",
        "\n",
        "x=np.linspace(0,10000,10000)\n",
        "\n",
        "y=[a_n(n) for n in x]\n",
        "\n",
        "plt.plot(x,y,'.', ms=2.5)\n",
        "print(sum)\n",
        "plt.show()"
      ],
      "metadata": {
        "id": "72eklKv0pdL-"
      },
      "execution_count": null,
      "outputs": []
    },
    {
      "cell_type": "code",
      "source": [
        "import numpy as np\n",
        "import matplotlib.pyplot as plt\n",
        "\n",
        "sum = 0\n",
        "\n",
        "def a_n(n):\n",
        "  an=(7)*((1/3)**n)*((2/5)**(n-1))\n",
        "  global sum\n",
        "  sum += an\n",
        "  return an\n",
        "\n",
        "x=np.linspace(1,10000,10000)\n",
        "\n",
        "y=[a_n(n) for n in x]\n",
        "\n",
        "plt.plot(x,y,'.', ms=2.5)\n",
        "print(sum)\n",
        "plt.show()"
      ],
      "metadata": {
        "id": "MdYqZlJzq7zt"
      },
      "execution_count": null,
      "outputs": []
    },
    {
      "cell_type": "code",
      "source": [
        "import numpy as np\n",
        "import matplotlib.pyplot as plt\n",
        "\n",
        "sum = 0\n",
        "\n",
        "def a_n(n):\n",
        "  an=(2/3)**n\n",
        "  global sum\n",
        "  sum += an\n",
        "  return an\n",
        "\n",
        "x=np.linspace(3,10000,10000)\n",
        "\n",
        "y=[a_n(n) for n in x]\n",
        "\n",
        "plt.plot(x,y,'.', ms=2.5)\n",
        "print(sum)\n",
        "plt.show()"
      ],
      "metadata": {
        "id": "ArS8dNifrnSr"
      },
      "execution_count": null,
      "outputs": []
    },
    {
      "cell_type": "code",
      "source": [
        "import numpy as np\n",
        "import matplotlib.pyplot as plt\n",
        "\n",
        "sum = 0\n",
        "\n",
        "def a_n(n):\n",
        "  an=(0.99999)**n\n",
        "  global sum\n",
        "  sum += an\n",
        "  return an\n",
        "\n",
        "x=np.linspace(1,10000,10000)\n",
        "\n",
        "y=[a_n(n) for n in x]\n",
        "\n",
        "plt.plot(x,y,'.', ms=2.5)\n",
        "print(sum)\n",
        "plt.show()"
      ],
      "metadata": {
        "id": "zp8WTVSlr5wU"
      },
      "execution_count": null,
      "outputs": []
    },
    {
      "cell_type": "code",
      "source": [
        "import numpy as np\n",
        "import matplotlib.pyplot as plt\n",
        "\n",
        "sum = 0\n",
        "\n",
        "def a_n(n):\n",
        "  an=5*((3**np.pi)/(7**(n-1)))\n",
        "  global sum\n",
        "  sum += an\n",
        "  return an\n",
        "\n",
        "x=np.linspace(30,100,100)\n",
        "\n",
        "y=[a_n(n) for n in x]\n",
        "\n",
        "plt.plot(x,y,'.', ms=2.5)\n",
        "print(sum)\n",
        "plt.show()"
      ],
      "metadata": {
        "id": "rCiarKStsLTf"
      },
      "execution_count": null,
      "outputs": []
    },
    {
      "cell_type": "code",
      "source": [
        "import numpy as np\n",
        "import matplotlib.pyplot as plt\n",
        "\n",
        "sum = 0\n",
        "\n",
        "def a_n(n):\n",
        "  an=(np.pi/4)**n\n",
        "  global sum\n",
        "  sum += an\n",
        "  return an\n",
        "\n",
        "x=np.linspace(1,10000,10000)\n",
        "\n",
        "y=[a_n(n) for n in x]\n",
        "\n",
        "plt.plot(x,y,'.', ms=2.5)\n",
        "print(sum)\n",
        "plt.show()"
      ],
      "metadata": {
        "id": "ok-X_-sbse6N"
      },
      "execution_count": null,
      "outputs": []
    }
  ]
}