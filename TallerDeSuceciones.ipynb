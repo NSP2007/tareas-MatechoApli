{
  "nbformat": 4,
  "nbformat_minor": 0,
  "metadata": {
    "colab": {
      "provenance": [],
      "authorship_tag": "ABX9TyPhzcgCY8+2FLJSk5IL/smR",
      "include_colab_link": true
    },
    "kernelspec": {
      "name": "python3",
      "display_name": "Python 3"
    },
    "language_info": {
      "name": "python"
    }
  },
  "cells": [
    {
      "cell_type": "markdown",
      "metadata": {
        "id": "view-in-github",
        "colab_type": "text"
      },
      "source": [
        "<a href=\"https://colab.research.google.com/github/NSP2007/tareas-MatechoApli/blob/main/TallerDeSuceciones.ipynb\" target=\"_parent\"><img src=\"https://colab.research.google.com/assets/colab-badge.svg\" alt=\"Open In Colab\"/></a>"
      ]
    },
    {
      "cell_type": "markdown",
      "source": [
        "##***1.2 - 2***\n",
        "\n",
        "(a) $a_{n} = \\frac{1}{{3}^{n}},n = 0, 1, 2, ...$\n",
        "\n",
        "$$\\lim_{n \\to \\infty}\\frac{1}{{3}^{n}} = \\frac{1}{\\infty} = 0$$\n",
        "\n",
        "\n",
        "(b) $a_{n} = \\pi^{n}, n = 0, 1, 2, ...$\n",
        "\n",
        "Esta sucesion diverge hacia el infinito porque cada vez se hace mas grande\n",
        "\n",
        "\n",
        "(c) $b_{n} = \\frac{3n-1}{2n+6}, n = 1, 2, 3, ...$\n",
        "\n",
        "$$\\lim_{n \\to \\infty} \\frac{3n-1}{2n+6} = \\frac{3}{2}$$\n",
        "\n",
        "\n",
        "(d) $c_{n} = cos(\\pi n), n = 0, 1, 2, ...$\n",
        "\n",
        "Esta sucesion diverge porque el coseno alterna entre -1 y 1\n",
        "\n",
        "\n",
        "(e) $a_{n} = \\frac{3n^{4}-6n^{3}+1}{5n^{3}+n^{2}+2}, n = 1, 2, 3, ...$\n",
        "\n",
        "Esta sucesion diverge porque el polinomio de arriba es mayor que el de abajo\n",
        "\n",
        "\n",
        "(f) $b_{n} = \\frac{2n^{5}-3n^{2}+23}{7n^{5}+13n^{4}-12}, n = 1, 2, 3, ...$\n",
        "\n",
        "$$\\lim_{n \\to \\infty} \\frac{2n^{5}-3n^{2}+23}{7n^{5}+13n^{4}-12} = \\frac{2}{7}$$\n",
        "\n",
        "\n",
        "(g) $c_{n} = \\frac{45-16n^{2}}{13+5n+6n^{3}}, n = 1, 2, 3, ...$\n",
        "\n",
        "$$\\lim_{n \\to \\infty} \\frac{45-16n^{2}}{13+5n+6n^{3}} = 0$$\n",
        "\n",
        "\n",
        "(h) $b_{n} = \\frac{3n+1}{\\sqrt{4n^{2}+1}}, n = 1, 2, 3, ...$\n",
        "\n",
        "$$\\lim_{n \\to \\infty} \\frac{3n+1}{\\sqrt{4n^{2}+1}} = \\frac{3}{4}$$\n",
        "\n",
        "\n",
        "(i) $a_{n} = (-2)^{2n+1}, n = 1, 2, 3, ...$\n",
        "\n",
        "Esta sucesion diverge hacia el infinito\n",
        "\n",
        "\n",
        "(j) $a_{n} = \\frac{10-16n^{3}}{1+n^{2}}, n = 1, 2, 3, ...$\n",
        "\n",
        "Esta sucesiobn diverge hacia el infinito\n",
        "\n",
        "(k) $a_{n} = \\sqrt{\\frac{3n^{2}+n-6}{5n^{2}+16}}, n = 1, 2, 3, ...$\n",
        "\n",
        "$$\\lim_{n \\to \\infty} \\sqrt{\\frac{3n^{2}+n-6}{5n^{2}+16}} = \\sqrt{\\frac{3}{5}}$$\n",
        "\n",
        "\n",
        "(l) $b_{n} = \\frac{(-1)^{n}}{5^n}, n = 0, 1, 2, ...$\n",
        "\n",
        "Esta sucesion diverge al infinito"
      ],
      "metadata": {
        "id": "J__nwbOCDExt"
      }
    },
    {
      "cell_type": "code",
      "source": [
        "import numpy as np\n",
        "import matplotlib.pyplot as plt\n"
      ],
      "metadata": {
        "id": "55m5-y7Q4Qrs"
      },
      "execution_count": null,
      "outputs": []
    },
    {
      "cell_type": "markdown",
      "source": [
        "##problems 1.2\n",
        "\n",
        "1) a)$\\frac{1}{3^{n}}$ desde n=0\n",
        "\n",
        "b) $\\frac{1}{n}$\n",
        "\n",
        "c) $\\frac {n+(n-1)}{n}$\n",
        "\n",
        "d)$\\frac{(-1)^{n}}{2n+1}$ desde n=1"
      ],
      "metadata": {
        "id": "ZQPo-Sft4VR2"
      }
    },
    {
      "cell_type": "code",
      "source": [
        "# punto 8) 1.2\n",
        "import numpy as np\n",
        "import matplotlib.pyplot as plt\n",
        "\n",
        "n_max=50\n",
        "def suc(n_max):\n",
        "  a=[1]\n",
        "  for n in range(1,n_max):\n",
        "    a.append((1/3) * a[n-1])  # Aplicamos la regla recursiva\n",
        "  return a\n",
        "\n",
        "x=np.arange(1,n_max+1)\n",
        "\n",
        "\n",
        "\n",
        "y= suc(n_max)\n",
        "\n",
        "\n",
        "plt.plot(x,y)\n",
        "plt.axhline(y=0,linestyle=\":\",color='r')#Sí hay asintota en cero debido a que por la sucesión recursiva aquí, el denominador siempre va a ser cada vez más grande lo que hace que la sucesión se acerca cada vez más a cero\n",
        "plt.show()\n",
        "\n",
        "\n",
        "print(y)\n",
        "\n"
      ],
      "metadata": {
        "id": "1IfH-4DH4Sy2"
      },
      "execution_count": null,
      "outputs": []
    },
    {
      "cell_type": "markdown",
      "source": [
        "##Punto 13) 1.2\n",
        "\n",
        "sucesión 1 diverge a menos inifinito= $(-1)^{2n-1}\\times n2$\n",
        "sucesión 2 diverge a más infinito= $n2$\n",
        "\n",
        "su suma da una sucesión que converge a cero."
      ],
      "metadata": {
        "id": "FrGmwnhV4fYv"
      }
    },
    {
      "cell_type": "code",
      "source": [
        "###Gráfica\n",
        "import numpy as np\n",
        "import matplotlib.pyplot as plt\n",
        "def punto12(n):\n",
        "  return (((-1)**(2*n-1))*n*2)+(n*2)\n",
        "\n",
        "x=np.arange(1,101)\n",
        "y=[punto12(x) for x in x]\n",
        "plt.plot(x,y)\n",
        "plt.axhline(y=0,linestyle=\":\",color='r')\n",
        "plt.show()\n",
        "\n"
      ],
      "metadata": {
        "id": "VB7ftAfP4gSA"
      },
      "execution_count": null,
      "outputs": []
    },
    {
      "cell_type": "markdown",
      "source": [
        "#Seccion 1.2\n",
        "##Punto 3\n",
        "se debe analizar la desigualdad:\n",
        "\n",
        "$$- \\frac{1}{n} \\leq \\frac{\\sin(n)}{n} \\leq \\frac{1}{n}$$\n",
        "\n",
        "para \\( n = 1, 2, 3...), y determinar el límite:\n",
        "\n",
        "$$\\lim_{n \\to \\infty} \\frac{\\sin(n)}{n}$$\n",
        "\n",
        "### Paso 1: Comprender de los límites\n",
        "\n",
        "Sabemos que la función seno está limitada para todo número real ( n):\n",
        "\n",
        "$$-1 \\leq \\sin(n) \\leq 1$$\n",
        "\n",
        "Si dividimos toda la desigualdad por ( n ) (que es siempre positivo para n) naturales), obtenemos:\n",
        "\n",
        "$$-\\frac{1}{n} \\leq \\frac{\\sin(n)}{n} \\leq \\frac{1}{n}$$\n",
        "\n",
        "### Paso 2: Aplicación del Teorema del Sandwich\n",
        "\n",
        "tenemos:\n",
        "\n",
        "$$\\lim_{n \\to \\infty} \\frac{1}{n} = 0, \\quad \\text{y} \\quad \\lim_{n \\to \\infty} -\\frac{1}{n} = 0$$\n",
        "\n",
        "Dado que $ \\frac{\\sin(n)}{n} $ está entre $ -\\frac{1}{n} $ y $ \\frac{1}{n} $, aplicando el Teorema del Sandwich, obtenemos:\n",
        "\n",
        "$$\\lim_{n \\to \\infty} \\frac{\\sin(n)}{n} = 0$$\n",
        "\n",
        "### Conclusión\n",
        "\n",
        "El resultado nos dice que, aunque $\\sin(n)$ oscila entre (-1) y (1), al dividirlo entre ( n ), su efecto se reduce progresivamente. Por lo tanto, la fracción $ \\frac{\\sin(n)}{n}$ tiende a cero conforme ( n ) crece indefinidamente.\n"
      ],
      "metadata": {
        "id": "HTAlzBti22lL"
      }
    },
    {
      "cell_type": "markdown",
      "source": [
        "##***1.2 - 4***"
      ],
      "metadata": {
        "id": "p3clt_3_b2r3"
      }
    },
    {
      "cell_type": "code",
      "source": [
        "import numpy as np\n",
        "import matplotlib.pyplot as plt\n",
        "\n",
        "e = 2.71828\n",
        "\n",
        "def a_n(n):\n",
        "  a_n=(1+(1/n))**n\n",
        "  return a_n\n",
        "\n",
        "x=np.linspace(1,200,200)\n",
        "\n",
        "y=[a_n(n) for n in x]\n",
        "\n",
        "plt.plot(x,y,'.', ms=2.5)\n",
        "print(y[134]-e)\n",
        "print(y[72])\n",
        "plt.axhline(e)\n",
        "plt.show()"
      ],
      "metadata": {
        "id": "d5ra2-yOVLw_"
      },
      "execution_count": null,
      "outputs": []
    },
    {
      "cell_type": "markdown",
      "source": [
        "(d) Si, es razonable pensar que la sucesion se aproxima a euler en el infinito\n",
        "\n",
        "(e) El valor minimo en el que $a_{n}$ es menor a 2.7 es 72\n",
        "\n",
        "(f) El valor minimo en el que $|a_{n}-e|$ es menor que 0.01 es 134"
      ],
      "metadata": {
        "id": "_mPXp3zyYAM-"
      }
    },
    {
      "cell_type": "code",
      "source": [
        "import numpy as np\n",
        "import matplotlib.pyplot as plt\n",
        "def a_n(n):\n",
        "    return n * np.sin(1/n)\n",
        "\n",
        "# (a) Calculamos los primeros valores de a_n\n",
        "n_values = np.array([1, 2, 3, 4, 5])\n",
        "a_values = a_n(n_values)\n",
        "for n, a in zip(n_values, a_values):\n",
        "    print(f\"a_{n} = {a:.6f}\")\n",
        "\n",
        "# (c) Graficamos los puntos (n, a_n) junto con la línea y = 1\n",
        "plt.figure(figsize=(10, 5))\n",
        "plt.scatter(n_range, a_range, s=10, label=r'$a_n = n \\sin(1/n)$')\n",
        "plt.xlabel('n')\n",
        "plt.ylabel(r'$a_n$')\n",
        "plt.legend()\n",
        "plt.grid()\n",
        "plt.title(\"Gráfica de $a_n = n\\sin(1/n)$\")\n",
        "plt.show()\n",
        "\n",
        "# (d) Verificamos si el límite de a_n es 1\n",
        "limite = np.max(a_range)\n",
        "print(f\"El valor máximo de a_n en el rango calculado es {limite:.6f}, lo cual sugiere que el límite es 1.\")\n",
        "\n",
        "# (e) Encontramos el menor n para el cual a_n > 0.999\n",
        "n_999 = np.where(a_range > 0.999)[0][0] + 1\n",
        "print(f\"El menor valor de n para el cual a_n > 0.999 es {n_999}.\")\n",
        "\n",
        "# (f) Encontramos el primer n para el cual |a_n - 1| < 0.0001\n",
        "n_tolerance = np.where(np.abs(a_range - 1) < 0.0001)[0][0] + 1\n",
        "print(f\"El primer valor de n para el cual |a_n - 1| < 0.0001 es {n_tolerance}.\")"
      ],
      "metadata": {
        "id": "YANc8cLS3JOj"
      },
      "execution_count": null,
      "outputs": []
    },
    {
      "cell_type": "code",
      "source": [
        "#b\n",
        "\n",
        "import numpy as np\n",
        "\n",
        "# Definir la función a_n\n",
        "def a_n(n):\n",
        "    return n * np.sin(1/n)\n",
        "\n",
        "n_values = list(range(1, 201))\n",
        "a_values = [a_n(n) for n in n_values]\n",
        "\n",
        "for i in range(len(n_values)):\n",
        "    print(f\"{n_values[i]:3d}  {a_values[i]:.6f}\")"
      ],
      "metadata": {
        "id": "rk4-SVIK3P3I"
      },
      "execution_count": null,
      "outputs": []
    },
    {
      "cell_type": "markdown",
      "source": [
        "##Punto 9\n",
        "Dada la sucesión {a_n} con  \n",
        "\n",
        "$$ a_1 = 2 $$\n",
        "\n",
        "$$ a_{n+1} = 2a_n $$\n",
        "\n",
        "para ( n = 1, 2, 3,....), encontramos su forma explícita.\n",
        "\n",
        "## **1. Expresión general de la sucesión**  \n",
        "\n",
        "Revisemos los primeros términos:  \n",
        "\n",
        "$$ a_1 = 2 $$\n",
        "\n",
        "$$ a_2 = 2a_1 = 2(2) = 2^2 $$\n",
        "\n",
        "$$ a_3 = 2a_2 = 2(2^2) = 2^3 $$\n",
        "\n",
        "$$ a_4 = 2a_3 = 2(2^3) = 2^4 $$\n",
        "\n",
        "Siguiendo este patrón, se deduce que  \n",
        "\n",
        "$$ a_n = 2^n $$\n",
        "\n",
        "## **2. Gráfica de la sucesión**  \n",
        "\n",
        "\n"
      ],
      "metadata": {
        "id": "d9-0JTKm3bSg"
      }
    },
    {
      "cell_type": "code",
      "source": [
        "import numpy as np\n",
        "import matplotlib.pyplot as plt\n",
        "\n",
        "n = np.arange(1,51)\n",
        "a_n = 2**n\n",
        "\n",
        "plt.plot(n, a_n, 'bo-', markersize=4, label=r'$a_n = 2^n$')\n",
        "plt.xlabel('n')\n",
        "plt.ylabel(r'$a_n$')\n",
        "plt.title('Gráfica de la sucesión $a_n = 2^n$')\n",
        "plt.legend()\n",
        "plt.grid(True)\n",
        "plt.show()"
      ],
      "metadata": {
        "id": "mOgEPW9z3ltt"
      },
      "execution_count": null,
      "outputs": []
    },
    {
      "cell_type": "markdown",
      "source": [
        "##3. Límite de la sucesión  \n",
        "\n",
        "La sucesión crece exponencialmente, es decir,  \n",
        "\n",
        "$$a_n \\to \\infty \\quad \\text{cuando} \\quad n \\to \\infty$$  \n",
        "\n",
        "Por lo tanto, la sucesión **no tiene un límite finito**, ya que diverge a infinito:  \n",
        "\n",
        "$$\\lim_{n \\to \\infty} a_n = \\infty$$  "
      ],
      "metadata": {
        "id": "9j_lNLc13ql7"
      }
    },
    {
      "cell_type": "markdown",
      "source": [
        "#Seccion 1.3\n",
        "##Punto 2\n",
        "Definimos la suma parcial de la serie:\n",
        "\n",
        "$$s_n = \\sum_{j=0}^{n} \\frac{1}{j!} = 1 + 1 + \\frac{1}{2!} + \\frac{1}{3!} + \\frac{1}{4!} + \\dots + \\frac{1}{n!}$$\n",
        "Se usa la desigualdad:\n",
        "\n",
        "$$n! = (1)(2)(3)\\dots(n) \\geq (1)(2)(2)\\dots(2) = 2^{n-1}, \\quad \\text{para } n \\geq 1$$\n",
        "\n",
        "Por lo tanto:\n",
        "$$\\frac{1}{n!} \\leq \\frac{1}{2^{n-1}}$$\n",
        "Sumamos ambos lados desde n=1 hasta ∞:\n",
        "$$s_n < 2 + \\sum_{k=1}^{\\infty} \\frac{1}{2^k}$$\n",
        "La serie geométrica infinita:\n",
        "\n",
        "$$\\sum_{k=1}^{\\infty} \\frac{1}{2^k} = \\frac{\\frac{1}{2}}{1 - \\frac{1}{2}} = 1$$\n",
        "Entonces:\n",
        "$$s_n < 2 + 1 = 3.$$\n",
        "Esto demuestra que sn < 3 para todo n.\n",
        "\n",
        "(b) Convergencia de la serie dado que la sucesión sn es estrictamente creciente (sn + 1 > sn) y está acotada por 3, la serie converge por el criterio de acotación.\n",
        "\n",
        "Por lo tanto:\n",
        "$$ \\sum_{j=1}^{\\infty} \\frac{1}{j!}$$\n",
        "existe y es menor que 3.\n",
        "\n",
        "(c) Valor aproximado de la serie.\n",
        "Se sabe que:\n",
        "\n",
        "$$\\sum_{j=0}^{\\infty} \\frac{1}{j!} = e$$\n",
        "Donde:\n",
        "$$\n",
        "e \\approx 2.71828$$\n",
        "Sumamos hasta n=10:\n",
        "\n",
        "$$s_{10} = 1 + 1 + \\frac{1}{2} + \\frac{1}{6} + \\frac{1}{24} + \\frac{1}{120} + \\frac{1}{720} + \\frac{1}{5040} + \\frac{1}{40320} + \\frac{1}{362880}$$\n",
        "Esto nos da:\n",
        "$$s_{10} \\approx 2.718281$$\n",
        "Por lo tanto, se necesitan aproximadamente 10 términos para identificar que la suma se acerca a e.\n",
        "\n",
        "(d)\n",
        "Queremos encontrar el menor n, tal que:\n",
        "\n",
        "$$\\left| s_n - e \\right| < 0.000001$$\n",
        "Podemos calcular esto en Python.\n",
        "Al ejecutarlo, obtenemos que se requieren aproximadamente 10 términos para alcanzar la precisión deseada."
      ],
      "metadata": {
        "id": "pjmFbEfh3rdG"
      }
    },
    {
      "cell_type": "code",
      "source": [
        "e_aprox = 2.71828182845\n",
        "s_n = 0\n",
        "n = 0\n",
        "factorial = 1\n",
        "\n",
        "while abs(s_n - e_true) >= 0.000001:\n",
        "    s_n += 1 / factorial\n",
        "    n += 1\n",
        "    factorial *= n\n",
        "\n",
        "print(f\"Se necesitan {n} términos para obtener una suma parcial dentro de 0.000001 de e.\")"
      ],
      "metadata": {
        "id": "N45aEZ-O3yud"
      },
      "execution_count": null,
      "outputs": []
    },
    {
      "cell_type": "markdown",
      "source": [
        "***1.3 - 1***"
      ],
      "metadata": {
        "id": "WrcLQ12KcG_g"
      }
    },
    {
      "cell_type": "markdown",
      "source": [
        "(a) $\\sum_{n=1}^{\\infty}\\left ( \\frac{1}{3} \\right )^{n-1} = 1.5 $\n",
        "\n",
        "-\n",
        "\n",
        "(b) $\\sum_{n=1}^{\\infty} 4(0.21)^{n-1} = 5.0632$\n",
        "\n",
        "-\n",
        "\n",
        "(c) $\\sum_{n=1}^{\\infty} \\frac{2}{5^n} = 0.5$\n",
        "\n",
        "-\n",
        "\n",
        "(d) $\\sum_{n=0}^{\\infty} \\frac{2}{7^n} = 2.3333$\n",
        "\n",
        "-\n",
        "\n",
        "(e) $\\sum_{n=1}^{\\infty}7 ( \\frac{1}{3})^{n} (\\frac{2}{5})^{n-1} = 2.6923$\n",
        "\n",
        "-\n",
        "\n",
        "(f) $\\sum_{n=3}^{\\infty}( \\frac{2}{3})^{n} = 0.8888$\n",
        "\n",
        "-\n",
        "\n",
        "(g) $\\sum_{n=1}^{\\infty}( \\frac{3}{2})^{n-1} = diverge$\n",
        "\n",
        "-\n",
        "\n",
        "(h) $\\sum_{n=1}^{\\infty} 0.99999^n = 9516$\n",
        "\n",
        "-\n",
        "\n",
        "(i) $\\sum_{n=1}^{\\infty} 1.00001^n = diverge$\n",
        "\n",
        "-\n",
        "\n",
        "(j) $\\sum_{n=30}^{\\infty} 5 ( \\frac{3^{\\pi}}{7^{n-1}}) = 6.55$\n",
        "\n",
        "-\n",
        "\n",
        "(k) $\\sum_{n=100}^{\\infty}( \\frac{91}{89})^{n-1} = diverge$\n",
        "\n",
        "-\n",
        "\n",
        "(l) $\\sum_{n=1}^{\\infty}( \\frac{\\pi}{4})^{n} = 3.6598$\n",
        "\n",
        "-\n",
        "\n",
        "(m) $\\sum_{n=1}^{\\infty} \\sin(\\pi n) = diverge$\n",
        "\n",
        "-\n",
        "\n",
        "(n) $\\sum_{n=1}^{\\infty} \\cos(\\pi n) = diverge$"
      ],
      "metadata": {
        "id": "HCm_gYe9dCoR"
      }
    },
    {
      "cell_type": "code",
      "source": [
        "import numpy as np\n",
        "import matplotlib.pyplot as plt\n",
        "\n",
        "sum = 0\n",
        "\n",
        "def a_n(n):\n",
        "  an=(1/3)**(n-1)\n",
        "  global sum\n",
        "  sum += an\n",
        "  return an\n",
        "\n",
        "x=np.linspace(1,10000,10000)\n",
        "\n",
        "y=[a_n(n) for n in x]\n",
        "\n",
        "plt.plot(x,y,'.', ms=2.5)\n",
        "print(sum)\n",
        "plt.show()"
      ],
      "metadata": {
        "id": "ri2CPlNvb08i"
      },
      "execution_count": null,
      "outputs": []
    },
    {
      "cell_type": "code",
      "source": [
        "import numpy as np\n",
        "import matplotlib.pyplot as plt\n",
        "\n",
        "sum = 0\n",
        "\n",
        "def a_n(n):\n",
        "  an=4*(0.21)**(n-1)\n",
        "  global sum\n",
        "  sum += an\n",
        "  return an\n",
        "\n",
        "x=np.linspace(1,10000,10000)\n",
        "\n",
        "y=[a_n(n) for n in x]\n",
        "\n",
        "plt.plot(x,y,'.', ms=2.5)\n",
        "print(sum)\n",
        "plt.show()"
      ],
      "metadata": {
        "id": "cAvrD10Sf9bB"
      },
      "execution_count": null,
      "outputs": []
    },
    {
      "cell_type": "code",
      "source": [
        "import numpy as np\n",
        "import matplotlib.pyplot as plt\n",
        "\n",
        "sum = 0\n",
        "\n",
        "def a_n(n):\n",
        "  an=2/(5**n)\n",
        "  global sum\n",
        "  sum += an\n",
        "  return an\n",
        "\n",
        "x=np.linspace(1,10000,10000)\n",
        "\n",
        "y=[a_n(n) for n in x]\n",
        "\n",
        "plt.plot(x,y,'.', ms=2.5)\n",
        "print(sum)\n",
        "plt.show()"
      ],
      "metadata": {
        "id": "c2V4GV3_o1ZT"
      },
      "execution_count": null,
      "outputs": []
    },
    {
      "cell_type": "code",
      "source": [
        "import numpy as np\n",
        "import matplotlib.pyplot as plt\n",
        "\n",
        "sum = 0\n",
        "\n",
        "def a_n(n):\n",
        "  an=2/(7**n)\n",
        "  global sum\n",
        "  sum += an\n",
        "  return an\n",
        "\n",
        "x=np.linspace(0,10000,10000)\n",
        "\n",
        "y=[a_n(n) for n in x]\n",
        "\n",
        "plt.plot(x,y,'.', ms=2.5)\n",
        "print(sum)\n",
        "plt.show()"
      ],
      "metadata": {
        "id": "72eklKv0pdL-"
      },
      "execution_count": null,
      "outputs": []
    },
    {
      "cell_type": "code",
      "source": [
        "import numpy as np\n",
        "import matplotlib.pyplot as plt\n",
        "\n",
        "sum = 0\n",
        "\n",
        "def a_n(n):\n",
        "  an=(7)*((1/3)**n)*((2/5)**(n-1))\n",
        "  global sum\n",
        "  sum += an\n",
        "  return an\n",
        "\n",
        "x=np.linspace(1,10000,10000)\n",
        "\n",
        "y=[a_n(n) for n in x]\n",
        "\n",
        "plt.plot(x,y,'.', ms=2.5)\n",
        "print(sum)\n",
        "plt.show()"
      ],
      "metadata": {
        "id": "MdYqZlJzq7zt"
      },
      "execution_count": null,
      "outputs": []
    },
    {
      "cell_type": "code",
      "source": [
        "import numpy as np\n",
        "import matplotlib.pyplot as plt\n",
        "\n",
        "sum = 0\n",
        "\n",
        "def a_n(n):\n",
        "  an=(2/3)**n\n",
        "  global sum\n",
        "  sum += an\n",
        "  return an\n",
        "\n",
        "x=np.linspace(3,10000,10000)\n",
        "\n",
        "y=[a_n(n) for n in x]\n",
        "\n",
        "plt.plot(x,y,'.', ms=2.5)\n",
        "print(sum)\n",
        "plt.show()"
      ],
      "metadata": {
        "id": "ArS8dNifrnSr"
      },
      "execution_count": null,
      "outputs": []
    },
    {
      "cell_type": "code",
      "source": [
        "import numpy as np\n",
        "import matplotlib.pyplot as plt\n",
        "\n",
        "sum = 0\n",
        "\n",
        "def a_n(n):\n",
        "  an=(0.99999)**n\n",
        "  global sum\n",
        "  sum += an\n",
        "  return an\n",
        "\n",
        "x=np.linspace(1,10000,10000)\n",
        "\n",
        "y=[a_n(n) for n in x]\n",
        "\n",
        "plt.plot(x,y,'.', ms=2.5)\n",
        "print(sum)\n",
        "plt.show()"
      ],
      "metadata": {
        "id": "zp8WTVSlr5wU"
      },
      "execution_count": null,
      "outputs": []
    },
    {
      "cell_type": "code",
      "source": [
        "import numpy as np\n",
        "import matplotlib.pyplot as plt\n",
        "\n",
        "sum = 0\n",
        "\n",
        "def a_n(n):\n",
        "  an=5*((3**np.pi)/(7**(n-1)))\n",
        "  global sum\n",
        "  sum += an\n",
        "  return an\n",
        "\n",
        "x=np.linspace(30,100,100)\n",
        "\n",
        "y=[a_n(n) for n in x]\n",
        "\n",
        "plt.plot(x,y,'.', ms=2.5)\n",
        "print(sum)\n",
        "plt.show()"
      ],
      "metadata": {
        "id": "rCiarKStsLTf"
      },
      "execution_count": null,
      "outputs": []
    },
    {
      "cell_type": "code",
      "source": [
        "import numpy as np\n",
        "import matplotlib.pyplot as plt\n",
        "\n",
        "sum = 0\n",
        "\n",
        "def a_n(n):\n",
        "  an=(np.pi/4)**n\n",
        "  global sum\n",
        "  sum += an\n",
        "  return an\n",
        "\n",
        "x=np.linspace(1,10000,10000)\n",
        "\n",
        "y=[a_n(n) for n in x]\n",
        "\n",
        "plt.plot(x,y,'.', ms=2.5)\n",
        "print(sum)\n",
        "plt.show()"
      ],
      "metadata": {
        "id": "ok-X_-sbse6N"
      },
      "execution_count": null,
      "outputs": []
    },
    {
      "cell_type": "markdown",
      "source": [
        "***1.3 - 7***"
      ],
      "metadata": {
        "id": "TBkWWEaz2pnb"
      }
    },
    {
      "cell_type": "code",
      "source": [
        "import numpy as np\n",
        "import matplotlib.pyplot as plt\n",
        "\n",
        "altura1 = 10\n",
        "altura2 = 10\n",
        "\n",
        "def pelota1(altura, indice):\n",
        "  global altura1\n",
        "  rebote = altura*indice\n",
        "  altura1 = rebote\n",
        "  return rebote\n",
        "\n",
        "def pelota2(altura, indice):\n",
        "  global altura2\n",
        "  rebote = altura*indice\n",
        "  altura2 = rebote\n",
        "  return rebote\n",
        "\n",
        "a=[pelota1(altura1, 0.75) for i in y]\n",
        "b=[pelota2(altura2, 0.25) for i in y]\n",
        "\n",
        "plt.grid()\n",
        "plt.xlim(0,30)\n",
        "plt.ylim(0,10)\n",
        "plt.plot(a,'.', ms=5)\n",
        "plt.plot(b,'.', ms=5)\n",
        "plt.show()"
      ],
      "metadata": {
        "id": "_07Nmaho00qX"
      },
      "execution_count": null,
      "outputs": []
    },
    {
      "cell_type": "code",
      "source": [
        "# punto 11 de 1.3\n",
        "n=1 #harmonic series empieza en 1\n",
        "\n",
        "sum_h_m=0\n",
        "\n",
        "for n in range(1,1000):\n",
        "  sum_h_m+=1/n\n",
        "  if sum_h_m >= 5:\n",
        "    break\n",
        "\n",
        "print (n) #Da 83, se confirma con calculadora este resultado, así que se requiere la suma de la serie de n de 1 a 83 dentro de la formula de la harmonica.\n",
        "\n",
        "while sum_h_m<5:\n",
        "  sum_h_m+=1/n\n",
        "  n+=1\n",
        "\n",
        "print (n)"
      ],
      "metadata": {
        "id": "y2QcjDOt4mVj",
        "outputId": "7b54cf3c-2a8a-433b-9e5e-6d4663912f8b",
        "colab": {
          "base_uri": "https://localhost:8080/"
        }
      },
      "execution_count": 43,
      "outputs": [
        {
          "output_type": "stream",
          "name": "stdout",
          "text": [
            "83\n",
            "83\n"
          ]
        }
      ]
    }
  ]
}