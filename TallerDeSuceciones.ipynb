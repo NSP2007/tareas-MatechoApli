{
  "nbformat": 4,
  "nbformat_minor": 0,
  "metadata": {
    "colab": {
      "provenance": [],
      "authorship_tag": "ABX9TyMotpSDK2e6rN765hhz5z+4",
      "include_colab_link": true
    },
    "kernelspec": {
      "name": "python3",
      "display_name": "Python 3"
    },
    "language_info": {
      "name": "python"
    }
  },
  "cells": [
    {
      "cell_type": "markdown",
      "metadata": {
        "id": "view-in-github",
        "colab_type": "text"
      },
      "source": [
        "<a href=\"https://colab.research.google.com/github/NSP2007/tareas-MatechoApli/blob/main/TallerDeSuceciones.ipynb\" target=\"_parent\"><img src=\"https://colab.research.google.com/assets/colab-badge.svg\" alt=\"Open In Colab\"/></a>"
      ]
    },
    {
      "cell_type": "markdown",
      "source": [
        "1.2 - 2\n",
        "\n",
        "(a) $a_{n} = \\frac{1}{{3}^{n}},n = 0, 1, 2, ...$\n",
        "\n",
        "$$\\lim_{n \\to \\infty}\\frac{1}{{3}^{n}} = \\frac{1}{\\infty} = 0$$\n",
        "\n",
        "\n",
        "(b) $a_{n} = \\pi^{n}, n = 0, 1, 2, ...$\n",
        "\n",
        "Esta sucesion diverge hacia el infinito porque cada vez se hace mas grande\n",
        "\n",
        "\n",
        "(c) $b_{n} = \\frac{3n-1}{2n+6}, n = 1, 2, 3, ...$\n",
        "\n",
        "$$\\lim_{n \\to \\infty} \\frac{3n-1}{2n+6} = \\frac{3}{2}$$\n",
        "\n",
        "\n",
        "(d) $c_{n} = cos(\\pi n), n = 0, 1, 2, ...$\n",
        "\n",
        "Esta sucesion diverge porque el coseno alterna entre -1 y 1\n",
        "\n",
        "\n",
        "(e) $a_{n} = \\frac{3n^{4}-6n^{3}+1}{5n^{3}+n^{2}+2}, n = 1, 2, 3, ...$\n",
        "\n",
        "Esta sucesion diverge porque el polinomio de arriba es mayor que el de abajo\n",
        "\n",
        "\n",
        "(f) $b_{n} = \\frac{2n^{5}-3n^{2}+23}{7n^{5}+13n^{4}-12}, n = 1, 2, 3, ...$\n",
        "\n",
        "$$\\lim_{n \\to \\infty} \\frac{2n^{5}-3n^{2}+23}{7n^{5}+13n^{4}-12} = \\frac{2}{7}$$\n",
        "\n",
        "\n",
        "(g) $c_{n} = \\frac{45-16n^{2}}{13+5n+6n^{3}}, n = 1, 2, 3, ...$\n",
        "\n",
        "$$\\lim_{n \\to \\infty} \\frac{45-16n^{2}}{13+5n+6n^{3}} = 0$$\n",
        "\n",
        "\n",
        "(h) $b_{n} = \\frac{3n+1}{\\sqrt{4n^{2}+1}}, n = 1, 2, 3, ...$\n",
        "\n",
        "$$\\lim_{n \\to \\infty} \\frac{3n+1}{\\sqrt{4n^{2}+1}} = \\frac{3}{4}$$\n",
        "\n",
        "\n",
        "(i) $a_{n} = (-2)^{2n+1}, n = 1, 2, 3, ...$\n",
        "\n",
        "Esta sucesion diverge hacia el infinito\n",
        "\n",
        "\n",
        "(j) $a_{n} = \\frac{10-16n^{3}}{1+n^{2}}, n = 1, 2, 3, ...$\n",
        "\n",
        "Esta sucesiobn diverge hacia el infinito\n",
        "\n",
        "(k) $a_{n} = \\sqrt{\\frac{3n^{2}+n-6}{5n^{2}+16}}, n = 1, 2, 3, ...$\n",
        "\n",
        "$$\\lim_{n \\to \\infty} \\sqrt{\\frac{3n^{2}+n-6}{5n^{2}+16}} = \\sqrt{\\frac{3}{5}}$$\n",
        "\n",
        "\n",
        "(l) $b_{n} = \\frac{(-1)^{n}}{5^n}, n = 0, 1, 2, ...$\n",
        "\n",
        "Esta sucesion diverge al infinito"
      ],
      "metadata": {
        "id": "J__nwbOCDExt"
      }
    },
    {
      "cell_type": "markdown",
      "source": [],
      "metadata": {
        "id": "J4TqFy2LVGOo"
      }
    }
  ]
}