{
  "nbformat": 4,
  "nbformat_minor": 0,
  "metadata": {
    "colab": {
      "provenance": [],
      "authorship_tag": "ABX9TyOc0cAMS5891aUlOOt04MCU",
      "include_colab_link": true
    },
    "kernelspec": {
      "name": "python3",
      "display_name": "Python 3"
    },
    "language_info": {
      "name": "python"
    }
  },
  "cells": [
    {
      "cell_type": "markdown",
      "metadata": {
        "id": "view-in-github",
        "colab_type": "text"
      },
      "source": [
        "<a href=\"https://colab.research.google.com/github/NSP2007/tareas-MatechoApli/blob/main/LaboratorioDeCajero.ipynb\" target=\"_parent\"><img src=\"https://colab.research.google.com/assets/colab-badge.svg\" alt=\"Open In Colab\"/></a>"
      ]
    },
    {
      "cell_type": "code",
      "source": [
        "# LABORATORIO DE CAJERO\n",
        "#Megan Isabella Loaiza A00411917\n",
        "#Nicholas Solís A00411205\n",
        "#Heidy Yuliana Hernandez A00411232"
      ],
      "metadata": {
        "id": "zFvX2zr1V4FP"
      },
      "execution_count": null,
      "outputs": []
    },
    {
      "cell_type": "code",
      "execution_count": null,
      "metadata": {
        "colab": {
          "base_uri": "https://localhost:8080/"
        },
        "id": "hSccVA_iS78d",
        "outputId": "1e9ee7f3-dc31-4f00-fdb2-a7f1723f0b4e"
      },
      "outputs": [
        {
          "output_type": "stream",
          "name": "stdout",
          "text": [
            "Bienvenido al cajero.\n",
            "Por favor, digite su clave (4 dígitos): tgfe\n",
            "La clave es incorrecta. Intente nuevamente.\n",
            "Por favor, digite su clave (4 dígitos): 1234\n",
            "\n",
            "Elija una opción:\n",
            "[1] Consultar mi saldo\n",
            "[2] Depositar\n",
            "[3] Retirar\n",
            "[4] Transferir\n",
            "[5] Salir\n",
            "\n",
            "Seleccione una opción: 6\n",
            "Por favor, seleccione una opción válida.\n",
            "\n",
            "Elija una opción:\n",
            "[1] Consultar mi saldo\n",
            "[2] Depositar\n",
            "[3] Retirar\n",
            "[4] Transferir\n",
            "[5] Salir\n",
            "\n",
            "Seleccione una opción: 1\n",
            "Su saldo es: $ 6325291\n",
            "\n",
            "Elija una opción:\n",
            "[1] Consultar mi saldo\n",
            "[2] Depositar\n",
            "[3] Retirar\n",
            "[4] Transferir\n",
            "[5] Salir\n",
            "\n",
            "Seleccione una opción: 2\n",
            "Ingrese el monto a depositar: $awd\n",
            "Ingrese un número válido.\n",
            "\n",
            "Elija una opción:\n",
            "[1] Consultar mi saldo\n",
            "[2] Depositar\n",
            "[3] Retirar\n",
            "[4] Transferir\n",
            "[5] Salir\n",
            "\n",
            "Seleccione una opción: 2\n",
            "Ingrese el monto a depositar: $1\n",
            "Depósito exitoso.\n",
            "\n",
            "Elija una opción:\n",
            "[1] Consultar mi saldo\n",
            "[2] Depositar\n",
            "[3] Retirar\n",
            "[4] Transferir\n",
            "[5] Salir\n",
            "\n",
            "Seleccione una opción: 3\n",
            "Ingrese el monto a retirar: $9999999999999\n",
            "Fondos insuficientes o monto inválido.\n",
            "\n",
            "Elija una opción:\n",
            "[1] Consultar mi saldo\n",
            "[2] Depositar\n",
            "[3] Retirar\n",
            "[4] Transferir\n",
            "[5] Salir\n",
            "\n"
          ]
        }
      ],
      "source": [
        "import random\n",
        "import time\n",
        "saldo = random.randint(5000, 10000000)\n",
        "print(\"Bienvenido al cajero.\")\n",
        "while True:\n",
        "    clave = input(\"Por favor, digite su clave (4 dígitos): \")\n",
        "    if clave.isdigit() and len(clave) == 4:\n",
        "        break\n",
        "    print(\"La clave es incorrecta. Intente nuevamente.\")\n",
        "def mostrar_menu():\n",
        "    print(\"\\nElija una opción:\")\n",
        "    print(\"[1] Consultar mi saldo\")\n",
        "    print(\"[2] Depositar\")\n",
        "    print(\"[3] Retirar\")\n",
        "    print(\"[4] Transferir\")\n",
        "    print(\"[5] Salir\\n\")\n",
        "\n",
        "while True:\n",
        "    mostrar_menu()\n",
        "\n",
        "    try:\n",
        "        opcion = int(input(\"Seleccione una opción: \"))\n",
        "\n",
        "        if opcion == 1:\n",
        "            print(\"Su saldo es: $\", saldo)\n",
        "\n",
        "        elif opcion == 2:\n",
        "            deposito = int(input(\"Ingrese el monto a depositar: $\"))\n",
        "            if deposito > 0:\n",
        "                saldo += deposito\n",
        "                print(\"Depósito exitoso.\")\n",
        "            else:\n",
        "                print(\"Digite una opcion valida.\")\n",
        "\n",
        "        elif opcion == 3:\n",
        "            retirado = int(input(\"Ingrese el monto a retirar: $\"))\n",
        "            if 0 < retirado <= saldo:\n",
        "                saldo -= retirado\n",
        "                print(\"Retiro exitoso.\")\n",
        "            else:\n",
        "                print(\"Fondos insuficientes o monto inválido.\")\n",
        "\n",
        "        elif opcion == 4:\n",
        "            transferir = int(input(\"Ingrese el monto a transferir: $\"))\n",
        "            if 0 < transferir <= saldo:\n",
        "                cuenta = input(\"Ingrese el número de cuenta : \")\n",
        "                if len(cuenta) == 10:\n",
        "                    saldo -= transferir\n",
        "                    print(\"Transferencia exitosa.\")\n",
        "                else:\n",
        "                    print(\"Número de cuenta inválido.\")\n",
        "            else:\n",
        "                print(\"Fondos insuficientes o monto inválido.\")\n",
        "\n",
        "        elif opcion == 5:\n",
        "            print(\"Gracias por confiar en nosotros, vuelva pronto\")\n",
        "            break\n",
        "\n",
        "        else:\n",
        "            print(\"Por favor, seleccione una opción válida.\")\n",
        "\n",
        "    except ValueError:\n",
        "        print(\"Ingrese un número válido.\")\n",
        "\n",
        "    time.sleep(1)"
      ]
    }
  ]
}