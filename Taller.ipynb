{
  "nbformat": 4,
  "nbformat_minor": 0,
  "metadata": {
    "colab": {
      "provenance": [],
      "authorship_tag": "ABX9TyPJ0iMi2SoVC50XUX34NvRe",
      "include_colab_link": true
    },
    "kernelspec": {
      "name": "python3",
      "display_name": "Python 3"
    },
    "language_info": {
      "name": "python"
    }
  },
  "cells": [
    {
      "cell_type": "markdown",
      "metadata": {
        "id": "view-in-github",
        "colab_type": "text"
      },
      "source": [
        "<a href=\"https://colab.research.google.com/github/NSP2007/tareas-MatechoApli/blob/main/Taller.ipynb\" target=\"_parent\"><img src=\"https://colab.research.google.com/assets/colab-badge.svg\" alt=\"Open In Colab\"/></a>"
      ]
    },
    {
      "cell_type": "code",
      "source": [
        "#10\n",
        "\n",
        "def AplicarDescuento(a):\n",
        "\n",
        "  precioFinal = 0\n",
        "\n",
        "  if a >= 200:\n",
        "    precioFinal = a*0.85\n",
        "\n",
        "  elif a >= 101:\n",
        "    precioFinal = a*0.9\n",
        "\n",
        "  elif a >= 50:\n",
        "    precioFinal = a*0.95\n",
        "\n",
        "  elif a >= 0:\n",
        "    print(\"No se aplica ningun descuento\")\n",
        "\n",
        "  else:\n",
        "    print(\"Por favor digite una valor por encima de 0\")\n",
        "\n",
        "  return precioFinal\n",
        "\n",
        "while True:\n",
        "  try:\n",
        "    valorCompra = int(input(\"Digite o valor de la compra: \"))\n",
        "    if valorCompra >= 0:\n",
        "      break\n",
        "  except ValueError:\n",
        "    print(\"Por favor digite un valor numerico\")\n",
        "\n",
        "AplicarDescuento(valorCompra)"
      ],
      "metadata": {
        "id": "eXS45r12CeF3",
        "outputId": "9b365f41-d45d-4961-8e0a-dd1937ffbfbc",
        "colab": {
          "base_uri": "https://localhost:8080/"
        }
      },
      "execution_count": null,
      "outputs": [
        {
          "name": "stdout",
          "output_type": "stream",
          "text": [
            "Digite o valor de la compra: 1000\n"
          ]
        },
        {
          "output_type": "execute_result",
          "data": {
            "text/plain": [
              "850.0"
            ]
          },
          "metadata": {},
          "execution_count": 41
        }
      ]
    },
    {
      "cell_type": "code",
      "source": [
        "#11\n",
        "\n",
        "while True:\n",
        "  try:\n",
        "    numeroPacientes = int(input(\"Digite el numero de pacientes: \"))\n",
        "    if numeroPacientes >= 0:\n",
        "      break\n",
        "    else:\n",
        "      print(\"Por favor digite un valor por encima de 0\")\n",
        "  except ValueError:\n",
        "    print(\"Por favor digite un valor numerico\")\n",
        "\n",
        "edadPacientesMayores = []\n",
        "nombrePacientesMayores = []\n",
        "\n",
        "def pacienteMayores(a):\n",
        "  for i in range(a):\n",
        "    while True:\n",
        "      try:\n",
        "        edad = int(input(\"Digite la edad del paciente: \"))\n",
        "        break\n",
        "      except ValueError:\n",
        "        print(\"Por favor digite un valor numerico\")\n",
        "    nombre = input(\"Digite el nombre del paciente: \")\n",
        "    if edad > 60:\n",
        "      edadPacientesMayores.append(edad)\n",
        "      nombrePacientesMayores.append(nombre)\n",
        "  if len(edadPacientesMayores)==0:\n",
        "    print(\"No hay pacientes mayores de 60 años\")\n",
        "  else:\n",
        "    for i in range(len(edadPacientesMayores)):\n",
        "     print(f\"El paciente {nombrePacientesMayores[i]} tiene {edadPacientesMayores[i]} años y necesita atencion prioritaria\")\n",
        "\n",
        "pacienteMayores(numeroPacientes)\n"
      ],
      "metadata": {
        "id": "MEMIRrAfLcRg"
      },
      "execution_count": null,
      "outputs": []
    },
    {
      "cell_type": "code",
      "source": [
        "from os import strerror\n",
        "#12\n",
        "\n",
        "while True:\n",
        "  try:\n",
        "\n",
        "    gastosComida = int(input(\"Digite el valor de los gastos de comida de este mes: \"))\n",
        "    if gastosComida >= 0:\n",
        "      break\n",
        "    else:\n",
        "      print(\"Por favor digite un valor por encima de 0\")\n",
        "\n",
        "  except ValueError:\n",
        "    print(\"Por favor digite un valor numerico\")\n",
        "\n",
        "while True:\n",
        "  try:\n",
        "\n",
        "    gastosAlquiler = int(input(\"Digite el valor de los gastos de alquiler de este mes: \"))\n",
        "    if gastosAlquiler >= 0:\n",
        "      break\n",
        "    else:\n",
        "      print(\"Por favor digite un valor por encima de 0\")\n",
        "\n",
        "  except ValueError:\n",
        "    print(\"Por favor digite un valor numerico\")\n",
        "\n",
        "while True:\n",
        "  try:\n",
        "\n",
        "    gastosTransporte = int(input(\"Digite el valor de los gastos de transporte de este mes: \"))\n",
        "    if gastosTransporte >= 0:\n",
        "      break\n",
        "    else:\n",
        "      print(\"Por favor digite un valor por encima de 0\")\n",
        "\n",
        "  except ValueError:\n",
        "    print(\"Por favor digite un valor numerico\")\n",
        "\n",
        "while True:\n",
        "  try:\n",
        "\n",
        "    gastosServicios = int(input(\"Digite el valor de los gastos de servicios de este mes: \"))\n",
        "    if gastosServicios >= 0:\n",
        "      break\n",
        "    else:\n",
        "      print(\"Por favor digite un valor por encima de 0\")\n",
        "\n",
        "  except ValueError:\n",
        "    print(\"Por favor digite un valor numerico\")\n",
        "\n",
        "def GastosMensuales(a,b,c,d):\n",
        "  sumaTotal = a+b+c+d\n",
        "  if a==b or a==c or a==d or b==c or b==d or c==d:\n",
        "    return print(\"Hay dos o mas valores iguales, la suma total es de\",sumaTotal)\n",
        "  elif a>=b and a>=c and a>=d:\n",
        "    mayor = a\n",
        "    print(\"La categoria mas alta fue la de comida\")\n",
        "  elif b>=a and b>=c and b>=d:\n",
        "    mayor = b\n",
        "    print(\"La categoria mas alta fue la de alquiler\")\n",
        "  elif c>=a and c>=b and c>=d:\n",
        "    mayor = c\n",
        "    print(\"La categoria mas alta fue la de trasnporte\")\n",
        "  elif d>=a and d>=b and d>=c:\n",
        "    mayor = d\n",
        "    print(\"La categoria mas alta fue la de servicios\")\n",
        "\n",
        "  return print(\"\\n La suma total fue de\",sumaTotal,\"y el gasto mas alto fue de\",mayor)\n",
        "\n",
        "GastosMensuales(gastosComida,gastosAlquiler,gastosTransporte,gastosServicios)"
      ],
      "metadata": {
        "id": "achduGpDQrqb",
        "colab": {
          "base_uri": "https://localhost:8080/"
        },
        "outputId": "6281cd88-dff1-416c-d6b7-a19803366726"
      },
      "execution_count": 32,
      "outputs": [
        {
          "output_type": "stream",
          "name": "stdout",
          "text": [
            "Digite el valor de los gastos de comida de este mes: -1\n",
            "Por favor digite un valor por encima de 0\n",
            "Digite el valor de los gastos de comida de este mes: 4\n",
            "Digite el valor de los gastos de alquiler de este mes: 2\n",
            "Digite el valor de los gastos de transporte de este mes: 3\n",
            "Digite el valor de los gastos de servicios de este mes: 5\n",
            "La categoria mas alta fue la de servicios\n",
            "\n",
            " La suma total fue de 14 y el gasto mas alto fue de 5\n"
          ]
        }
      ]
    },
    {
      "cell_type": "code",
      "source": [],
      "metadata": {
        "id": "EMD2vYNLZN9a"
      },
      "execution_count": null,
      "outputs": []
    }
  ]
}