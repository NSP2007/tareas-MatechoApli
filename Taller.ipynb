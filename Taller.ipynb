{
  "nbformat": 4,
  "nbformat_minor": 0,
  "metadata": {
    "colab": {
      "provenance": [],
      "authorship_tag": "ABX9TyPdZ/WRFSPh8V3u/v02TDWR",
      "include_colab_link": true
    },
    "kernelspec": {
      "name": "python3",
      "display_name": "Python 3"
    },
    "language_info": {
      "name": "python"
    }
  },
  "cells": [
    {
      "cell_type": "markdown",
      "metadata": {
        "id": "view-in-github",
        "colab_type": "text"
      },
      "source": [
        "<a href=\"https://colab.research.google.com/github/NSP2007/tareas-MatechoApli/blob/main/Taller.ipynb\" target=\"_parent\"><img src=\"https://colab.research.google.com/assets/colab-badge.svg\" alt=\"Open In Colab\"/></a>"
      ]
    },
    {
      "cell_type": "code",
      "source": [
        "#10\n",
        "\n",
        "def AplicarDescuento(a):\n",
        "\n",
        "  precioFinal = 0\n",
        "\n",
        "  if a >= 200:\n",
        "    precioFinal = a*0.85\n",
        "\n",
        "  elif a >= 101:\n",
        "    precioFinal = a*0.9\n",
        "\n",
        "  elif a >= 50:\n",
        "    precioFinal = a*0.95\n",
        "\n",
        "  elif a >= 0:\n",
        "    print(\"No se aplica ningun descuento\")\n",
        "\n",
        "  else:\n",
        "    print(\"Por favor digite una valor por encima de 0\")\n",
        "\n",
        "  return precioFinal\n",
        "\n",
        "while True:\n",
        "  try:\n",
        "    valorCompra = int(input(\"Digite o valor de la compra: \"))\n",
        "    if valorCompra >= 0:\n",
        "      break\n",
        "  except ValueError:\n",
        "    print(\"Por favor digite un valor numerico\")\n",
        "\n",
        "AplicarDescuento(valorCompra)"
      ],
      "metadata": {
        "id": "eXS45r12CeF3",
        "outputId": "9b365f41-d45d-4961-8e0a-dd1937ffbfbc",
        "colab": {
          "base_uri": "https://localhost:8080/"
        }
      },
      "execution_count": 41,
      "outputs": [
        {
          "name": "stdout",
          "output_type": "stream",
          "text": [
            "Digite o valor de la compra: 1000\n"
          ]
        },
        {
          "output_type": "execute_result",
          "data": {
            "text/plain": [
              "850.0"
            ]
          },
          "metadata": {},
          "execution_count": 41
        }
      ]
    },
    {
      "cell_type": "code",
      "source": [
        "#11\n",
        "\n",
        "while True:\n",
        "  try:\n",
        "    numeroPacientes = int(input(\"Digite el numero de pacientes: \"))\n",
        "    if numeroPacientes >= 0:\n",
        "      break\n",
        "    else:\n",
        "      print(\"Por favor digite un valor por encima de 0\")\n",
        "  except ValueError:\n",
        "    print(\"Por favor digite un valor numerico\")\n",
        "\n",
        "edadPacientesMayores = []\n",
        "nombrePacientesMayores = []\n",
        "\n",
        "def pacienteMayores(a):\n",
        "  for i in range(a):\n",
        "    while True:\n",
        "      try:\n",
        "        edad = int(input(\"Digite la edad del paciente: \"))\n",
        "        break\n",
        "      except ValueError:\n",
        "        print(\"Por favor digite un valor numerico\")\n",
        "    nombre = input(\"Digite el nombre del paciente: \")\n",
        "    if edad > 60:\n",
        "      edadPacientesMayores.append(edad)\n",
        "      nombrePacientesMayores.append(nombre)\n",
        "  if len(edadPacientesMayores)==0:\n",
        "    print(\"No hay pacientes mayores de 60 años\")\n",
        "  else:\n",
        "    for i in range(len(edadPacientesMayores)):\n",
        "     print(f\"El paciente {nombrePacientesMayores[i]} tiene {edadPacientesMayores[i]} años y necesita atencion prioritaria\")\n",
        "\n",
        "pacienteMayores(numeroPacientes)\n"
      ],
      "metadata": {
        "id": "MEMIRrAfLcRg"
      },
      "execution_count": null,
      "outputs": []
    },
    {
      "cell_type": "code",
      "source": [
        "#12\n",
        "\n",
        "while True"
      ],
      "metadata": {
        "id": "achduGpDQrqb"
      },
      "execution_count": null,
      "outputs": []
    }
  ]
}