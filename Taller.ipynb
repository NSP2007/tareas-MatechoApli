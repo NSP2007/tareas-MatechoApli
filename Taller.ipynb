{
  "nbformat": 4,
  "nbformat_minor": 0,
  "metadata": {
    "colab": {
      "provenance": [],
      "authorship_tag": "ABX9TyPn/DfxwSsMAMx6DBqxUFgA",
      "include_colab_link": true
    },
    "kernelspec": {
      "name": "python3",
      "display_name": "Python 3"
    },
    "language_info": {
      "name": "python"
    }
  },
  "cells": [
    {
      "cell_type": "markdown",
      "metadata": {
        "id": "view-in-github",
        "colab_type": "text"
      },
      "source": [
        "<a href=\"https://colab.research.google.com/github/NSP2007/tareas-MatechoApli/blob/main/Taller.ipynb\" target=\"_parent\"><img src=\"https://colab.research.google.com/assets/colab-badge.svg\" alt=\"Open In Colab\"/></a>"
      ]
    },
    {
      "cell_type": "code",
      "source": [
        "#10\n",
        "\n",
        "def AplicarDescuento(a):\n",
        "\n",
        "  precioFinal = 0\n",
        "\n",
        "  if a >= 200:\n",
        "    precioFinal = a*0.85\n",
        "\n",
        "  elif a >= 101:\n",
        "    precioFinal = a*0.9\n",
        "\n",
        "  elif a >= 50:\n",
        "    precioFinal = a*0.95\n",
        "\n",
        "  elif a >= 0:\n",
        "    print(\"No se aplica ningun descuento\")\n",
        "\n",
        "  else:\n",
        "    print(\"Por favor digite una valor por encima de 0\")\n",
        "\n",
        "  return precioFinal\n",
        "\n",
        "while True:\n",
        "  try:\n",
        "    valorCompra = int(input(\"Digite o valor de la compra: \"))\n",
        "    if valorCompra >= 0:\n",
        "      break\n",
        "  except ValueError:\n",
        "    print(\"Por favor digite un valor numerico\")\n",
        "\n",
        "AplicarDescuento(valorCompra)"
      ],
      "metadata": {
        "id": "eXS45r12CeF3",
        "outputId": "9b365f41-d45d-4961-8e0a-dd1937ffbfbc",
        "colab": {
          "base_uri": "https://localhost:8080/"
        }
      },
      "execution_count": null,
      "outputs": [
        {
          "name": "stdout",
          "output_type": "stream",
          "text": [
            "Digite o valor de la compra: 1000\n"
          ]
        },
        {
          "output_type": "execute_result",
          "data": {
            "text/plain": [
              "850.0"
            ]
          },
          "metadata": {},
          "execution_count": 41
        }
      ]
    },
    {
      "cell_type": "code",
      "source": [
        "#11\n",
        "\n",
        "while True:\n",
        "  try:\n",
        "    numeroPacientes = int(input(\"Digite el numero de pacientes: \"))\n",
        "    if numeroPacientes >= 0:\n",
        "      break\n",
        "    else:\n",
        "      print(\"Por favor digite un valor por encima de 0\")\n",
        "  except ValueError:\n",
        "    print(\"Por favor digite un valor numerico\")\n",
        "\n",
        "edadPacientesMayores = []\n",
        "nombrePacientesMayores = []\n",
        "\n",
        "def pacienteMayores(a):\n",
        "  for i in range(a):\n",
        "    while True:\n",
        "      try:\n",
        "        edad = int(input(\"Digite la edad del paciente: \"))\n",
        "        break\n",
        "      except ValueError:\n",
        "        print(\"Por favor digite un valor numerico\")\n",
        "    nombre = input(\"Digite el nombre del paciente: \")\n",
        "    if edad > 60:\n",
        "      edadPacientesMayores.append(edad)\n",
        "      nombrePacientesMayores.append(nombre)\n",
        "  if len(edadPacientesMayores)==0:\n",
        "    print(\"No hay pacientes mayores de 60 años\")\n",
        "  else:\n",
        "    for i in range(len(edadPacientesMayores)):\n",
        "     print(f\"El paciente {nombrePacientesMayores[i]} tiene {edadPacientesMayores[i]} años y necesita atencion prioritaria\")\n",
        "\n",
        "pacienteMayores(numeroPacientes)\n"
      ],
      "metadata": {
        "id": "MEMIRrAfLcRg",
        "colab": {
          "base_uri": "https://localhost:8080/",
          "height": 356
        },
        "outputId": "fc6d6733-fade-405e-894d-4df72be9dee5"
      },
      "execution_count": 27,
      "outputs": [
        {
          "output_type": "error",
          "ename": "KeyboardInterrupt",
          "evalue": "Interrupted by user",
          "traceback": [
            "\u001b[0;31m---------------------------------------------------------------------------\u001b[0m",
            "\u001b[0;31mKeyboardInterrupt\u001b[0m                         Traceback (most recent call last)",
            "\u001b[0;32m<ipython-input-27-d8afcc9fb347>\u001b[0m in \u001b[0;36m<cell line: 0>\u001b[0;34m()\u001b[0m\n\u001b[1;32m      3\u001b[0m \u001b[0;32mwhile\u001b[0m \u001b[0;32mTrue\u001b[0m\u001b[0;34m:\u001b[0m\u001b[0;34m\u001b[0m\u001b[0;34m\u001b[0m\u001b[0m\n\u001b[1;32m      4\u001b[0m   \u001b[0;32mtry\u001b[0m\u001b[0;34m:\u001b[0m\u001b[0;34m\u001b[0m\u001b[0;34m\u001b[0m\u001b[0m\n\u001b[0;32m----> 5\u001b[0;31m     \u001b[0mnumeroPacientes\u001b[0m \u001b[0;34m=\u001b[0m \u001b[0mint\u001b[0m\u001b[0;34m(\u001b[0m\u001b[0minput\u001b[0m\u001b[0;34m(\u001b[0m\u001b[0;34m\"Digite el numero de pacientes: \"\u001b[0m\u001b[0;34m)\u001b[0m\u001b[0;34m)\u001b[0m\u001b[0;34m\u001b[0m\u001b[0;34m\u001b[0m\u001b[0m\n\u001b[0m\u001b[1;32m      6\u001b[0m     \u001b[0;32mif\u001b[0m \u001b[0mnumeroPacientes\u001b[0m \u001b[0;34m>=\u001b[0m \u001b[0;36m0\u001b[0m\u001b[0;34m:\u001b[0m\u001b[0;34m\u001b[0m\u001b[0;34m\u001b[0m\u001b[0m\n\u001b[1;32m      7\u001b[0m       \u001b[0;32mbreak\u001b[0m\u001b[0;34m\u001b[0m\u001b[0;34m\u001b[0m\u001b[0m\n",
            "\u001b[0;32m/usr/local/lib/python3.11/dist-packages/ipykernel/kernelbase.py\u001b[0m in \u001b[0;36mraw_input\u001b[0;34m(self, prompt)\u001b[0m\n\u001b[1;32m   1175\u001b[0m                 \u001b[0;34m\"raw_input was called, but this frontend does not support input requests.\"\u001b[0m\u001b[0;34m\u001b[0m\u001b[0;34m\u001b[0m\u001b[0m\n\u001b[1;32m   1176\u001b[0m             )\n\u001b[0;32m-> 1177\u001b[0;31m         return self._input_request(\n\u001b[0m\u001b[1;32m   1178\u001b[0m             \u001b[0mstr\u001b[0m\u001b[0;34m(\u001b[0m\u001b[0mprompt\u001b[0m\u001b[0;34m)\u001b[0m\u001b[0;34m,\u001b[0m\u001b[0;34m\u001b[0m\u001b[0;34m\u001b[0m\u001b[0m\n\u001b[1;32m   1179\u001b[0m             \u001b[0mself\u001b[0m\u001b[0;34m.\u001b[0m\u001b[0m_parent_ident\u001b[0m\u001b[0;34m[\u001b[0m\u001b[0;34m\"shell\"\u001b[0m\u001b[0;34m]\u001b[0m\u001b[0;34m,\u001b[0m\u001b[0;34m\u001b[0m\u001b[0;34m\u001b[0m\u001b[0m\n",
            "\u001b[0;32m/usr/local/lib/python3.11/dist-packages/ipykernel/kernelbase.py\u001b[0m in \u001b[0;36m_input_request\u001b[0;34m(self, prompt, ident, parent, password)\u001b[0m\n\u001b[1;32m   1217\u001b[0m             \u001b[0;32mexcept\u001b[0m \u001b[0mKeyboardInterrupt\u001b[0m\u001b[0;34m:\u001b[0m\u001b[0;34m\u001b[0m\u001b[0;34m\u001b[0m\u001b[0m\n\u001b[1;32m   1218\u001b[0m                 \u001b[0;31m# re-raise KeyboardInterrupt, to truncate traceback\u001b[0m\u001b[0;34m\u001b[0m\u001b[0;34m\u001b[0m\u001b[0m\n\u001b[0;32m-> 1219\u001b[0;31m                 \u001b[0;32mraise\u001b[0m \u001b[0mKeyboardInterrupt\u001b[0m\u001b[0;34m(\u001b[0m\u001b[0;34m\"Interrupted by user\"\u001b[0m\u001b[0;34m)\u001b[0m \u001b[0;32mfrom\u001b[0m \u001b[0;32mNone\u001b[0m\u001b[0;34m\u001b[0m\u001b[0;34m\u001b[0m\u001b[0m\n\u001b[0m\u001b[1;32m   1220\u001b[0m             \u001b[0;32mexcept\u001b[0m \u001b[0mException\u001b[0m\u001b[0;34m:\u001b[0m\u001b[0;34m\u001b[0m\u001b[0;34m\u001b[0m\u001b[0m\n\u001b[1;32m   1221\u001b[0m                 \u001b[0mself\u001b[0m\u001b[0;34m.\u001b[0m\u001b[0mlog\u001b[0m\u001b[0;34m.\u001b[0m\u001b[0mwarning\u001b[0m\u001b[0;34m(\u001b[0m\u001b[0;34m\"Invalid Message:\"\u001b[0m\u001b[0;34m,\u001b[0m \u001b[0mexc_info\u001b[0m\u001b[0;34m=\u001b[0m\u001b[0;32mTrue\u001b[0m\u001b[0;34m)\u001b[0m\u001b[0;34m\u001b[0m\u001b[0;34m\u001b[0m\u001b[0m\n",
            "\u001b[0;31mKeyboardInterrupt\u001b[0m: Interrupted by user"
          ]
        }
      ]
    },
    {
      "cell_type": "code",
      "source": [
        "#12\n",
        "\n",
        "while True:\n",
        "  try:\n",
        "\n",
        "    gastosComida = int(input(\"Digite el valor de los gastos de comida de este mes: \"))\n",
        "    if gastosComida >= 0:\n",
        "      break\n",
        "    else:\n",
        "      print(\"Por favor digite un valor por encima de 0\")\n",
        "\n",
        "  except ValueError:\n",
        "    print(\"Por favor digite un valor numerico\")\n",
        "\n",
        "while True:\n",
        "  try:\n",
        "\n",
        "    gastosAlquiler = int(input(\"Digite el valor de los gastos de alquiler de este mes: \"))\n",
        "    if gastosAlquiler >= 0:\n",
        "      break\n",
        "    else:\n",
        "      print(\"Por favor digite un valor por encima de 0\")\n",
        "\n",
        "  except ValueError:\n",
        "    print(\"Por favor digite un valor numerico\")\n",
        "\n",
        "while True:\n",
        "  try:\n",
        "\n",
        "    gastosTransporte = int(input(\"Digite el valor de los gastos de transporte de este mes: \"))\n",
        "    if gastosTransporte >= 0:\n",
        "      break\n",
        "    else:\n",
        "      print(\"Por favor digite un valor por encima de 0\")\n",
        "\n",
        "  except ValueError:\n",
        "    print(\"Por favor digite un valor numerico\")\n",
        "\n",
        "while True:\n",
        "  try:\n",
        "\n",
        "    gastosServicios = int(input(\"Digite el valor de los gastos de servicios de este mes: \"))\n",
        "    if gastosServicios >= 0:\n",
        "      break\n",
        "    else:\n",
        "      print(\"Por favor digite un valor por encima de 0\")\n",
        "\n",
        "  except ValueError:\n",
        "    print(\"Por favor digite un valor numerico\")\n",
        "\n",
        "def GastosMensuales(a,b,c,d):\n",
        "  sumaTotal = a+b+c+d\n",
        "  if a==b or a==c or a==d or b==c or b==d or c==d:\n",
        "    return print(\"Hay dos o mas valores iguales, la suma total es de\",sumaTotal)\n",
        "  elif a>=b and a>=c and a>=d:\n",
        "    mayor = a\n",
        "    print(\"La categoria mas alta fue la de comida\")\n",
        "  elif b>=a and b>=c and b>=d:\n",
        "    mayor = b\n",
        "    print(\"La categoria mas alta fue la de alquiler\")\n",
        "  elif c>=a and c>=b and c>=d:\n",
        "    mayor = c\n",
        "    print(\"La categoria mas alta fue la de trasnporte\")\n",
        "  elif d>=a and d>=b and d>=c:\n",
        "    mayor = d\n",
        "    print(\"La categoria mas alta fue la de servicios\")\n",
        "\n",
        "  return print(\"\\n La suma total fue de\",sumaTotal,\"y el gasto mas alto fue de\",mayor)\n",
        "\n",
        "GastosMensuales(gastosComida,gastosAlquiler,gastosTransporte,gastosServicios)"
      ],
      "metadata": {
        "id": "achduGpDQrqb",
        "colab": {
          "base_uri": "https://localhost:8080/"
        },
        "outputId": "d27386f6-5216-4c0b-8a4a-e51d113062ab"
      },
      "execution_count": null,
      "outputs": [
        {
          "output_type": "stream",
          "name": "stdout",
          "text": [
            "Digite el valor de los gastos de comida de este mes: 1\n",
            "Digite el valor de los gastos de alquiler de este mes: 1\n",
            "Digite el valor de los gastos de transporte de este mes: 1\n",
            "Digite el valor de los gastos de servicios de este mes: 1\n",
            "Hay dos o mas valores iguales, la suma total es de 4\n"
          ]
        }
      ]
    },
    {
      "cell_type": "code",
      "source": [
        "listaDeRegistrados = []\n",
        "listaDeAsistencia = []\n",
        "\n",
        "while True:\n",
        "  try:\n",
        "    numeroRegistros = int(input(\"Cuantas personas hay registradas para el evento: \"))\n",
        "    if numeroRegistros >= 0:\n",
        "      break\n",
        "    else:\n",
        "      print(\"Por favor digite un valor por encima de 0\")\n",
        "  except ValueError:\n",
        "    print(\"Por favor digite un valor numerico\")\n",
        "\n",
        "for i in range(numeroRegistros):\n",
        "  nombres = input(f\"Cual es el nombre de la {i+1} persona: \").upper()\n",
        "  listaDeRegistrados.append(nombres)\n",
        "\n",
        "while True:\n",
        "  try:\n",
        "    numeroAsistencia = int(input(\"Cuantas personas asistieron para el evento: \"))\n",
        "    if numeroAsistencia > numeroRegistros:\n",
        "      print(\"No pueden haber mas asistencias que registros\")\n",
        "    elif numeroAsistencia >= 0:\n",
        "      break\n",
        "    else:\n",
        "      print(\"Por favor digite un valor por encima de 0\")\n",
        "  except ValueError:\n",
        "    print(\"Por favor digite un valor numerico\")\n",
        "\n",
        "for i in range(numeroAsistencia):\n",
        "  nombres = input(f\"Cual es el nombre de la {i+1} persona: \").upper()\n",
        "  listaDeAsistencia.append(nombres)\n",
        "\n",
        "def ConfirmacionAsistencia(a,b):\n",
        "\n",
        "  listaDeFaltantes = []\n",
        "\n",
        "  for i in a:\n",
        "    if i in b:\n",
        "      pass\n",
        "    else:\n",
        "      listaDeFaltantes.append(i)\n",
        "\n",
        "  for i in range(len(listaDeFaltantes)):\n",
        "    print(f\"{listaDeFaltantes[i]}, falto a el evento\")\n",
        "\n",
        "ConfirmacionAsistencia(listaDeRegistrados,listaDeAsistencia)\n",
        "\n"
      ],
      "metadata": {
        "id": "5sfKzRdNK4SS",
        "colab": {
          "base_uri": "https://localhost:8080/"
        },
        "outputId": "f6c4aca0-64bd-402e-8a45-549c997d357c"
      },
      "execution_count": 41,
      "outputs": [
        {
          "output_type": "stream",
          "name": "stdout",
          "text": [
            "Cuantas personas hay registradas para el evento: 3\n",
            "Cual es el nombre de la 1 persona: a\n",
            "Cual es el nombre de la 2 persona: b\n",
            "Cual es el nombre de la 3 persona: c\n",
            "Cuantas personas asistieron para el evento: 1\n",
            "Cual es el nombre de la 1 persona: a\n",
            "B, falto a el evento\n",
            "C, falto a el evento\n"
          ]
        }
      ]
    }
  ]
}